{
 "cells": [
  {
   "cell_type": "code",
   "execution_count": 1,
   "metadata": {},
   "outputs": [],
   "source": [
    "import pandas as pd\n",
    "import numpy as np\n",
    "data= pd.read_csv(r'C:\\Users\\yebin\\OneDrive\\바탕 화면\\4-2\\2_비정형데이터분석\\중간발표\\결과값\\review_Sunny.csv',encoding='utf-8')"
   ]
  },
  {
   "cell_type": "code",
   "execution_count": 2,
   "metadata": {},
   "outputs": [
    {
     "data": {
      "text/html": [
       "<div>\n",
       "<style scoped>\n",
       "    .dataframe tbody tr th:only-of-type {\n",
       "        vertical-align: middle;\n",
       "    }\n",
       "\n",
       "    .dataframe tbody tr th {\n",
       "        vertical-align: top;\n",
       "    }\n",
       "\n",
       "    .dataframe thead th {\n",
       "        text-align: right;\n",
       "    }\n",
       "</style>\n",
       "<table border=\"1\" class=\"dataframe\">\n",
       "  <thead>\n",
       "    <tr style=\"text-align: right;\">\n",
       "      <th></th>\n",
       "      <th>star</th>\n",
       "      <th>helpful</th>\n",
       "      <th>title</th>\n",
       "      <th>text</th>\n",
       "    </tr>\n",
       "  </thead>\n",
       "  <tbody>\n",
       "    <tr>\n",
       "      <th>0</th>\n",
       "      <td>5.0</td>\n",
       "      <td>\\n488</td>\n",
       "      <td>\\nItems needed to create a pton hack\\n</td>\n",
       "      <td>\\n\\n  Ok so I kept searching reviews to figure...</td>\n",
       "    </tr>\n",
       "    <tr>\n",
       "      <th>1</th>\n",
       "      <td>5.0</td>\n",
       "      <td>\\n1,892</td>\n",
       "      <td>\\nReview After Year One\\n</td>\n",
       "      <td>\\n\\n  Update Post: We originally purchased one...</td>\n",
       "    </tr>\n",
       "    <tr>\n",
       "      <th>2</th>\n",
       "      <td>4.0</td>\n",
       "      <td>\\n590</td>\n",
       "      <td>\\nGood bike for the price.  Just do a little r...</td>\n",
       "      <td>\\n\\n  A little maintenance here and there....B...</td>\n",
       "    </tr>\n",
       "    <tr>\n",
       "      <th>3</th>\n",
       "      <td>1.0</td>\n",
       "      <td>\\n902</td>\n",
       "      <td>\\nCompletely broke at 4 months!\\n</td>\n",
       "      <td>\\n\\n  When I initially purchased this bike I a...</td>\n",
       "    </tr>\n",
       "    <tr>\n",
       "      <th>4</th>\n",
       "      <td>1.0</td>\n",
       "      <td>\\n185</td>\n",
       "      <td>\\nDO NOT BUY THIS CYCLE!\\n</td>\n",
       "      <td>\\n\\n   I purchased this Cycle with a 3 year wa...</td>\n",
       "    </tr>\n",
       "    <tr>\n",
       "      <th>...</th>\n",
       "      <td>...</td>\n",
       "      <td>...</td>\n",
       "      <td>...</td>\n",
       "      <td>...</td>\n",
       "    </tr>\n",
       "    <tr>\n",
       "      <th>295</th>\n",
       "      <td>5.0</td>\n",
       "      <td>\\n\\n\\n</td>\n",
       "      <td>\\nSolidly made\\n</td>\n",
       "      <td>\\n\\n  Extremely well made and solid, no worry ...</td>\n",
       "    </tr>\n",
       "    <tr>\n",
       "      <th>296</th>\n",
       "      <td>5.0</td>\n",
       "      <td>\\n\\n\\n</td>\n",
       "      <td>\\nIf You're Considering a Bike for Your Home, ...</td>\n",
       "      <td>\\n\\n  It's surprisingly quiet and well made. I...</td>\n",
       "    </tr>\n",
       "    <tr>\n",
       "      <th>297</th>\n",
       "      <td>5.0</td>\n",
       "      <td>\\n\\n\\n</td>\n",
       "      <td>\\nOverall, great quality, very smooth and quie...</td>\n",
       "      <td>\\n\\n  After months of research and reading rev...</td>\n",
       "    </tr>\n",
       "    <tr>\n",
       "      <th>298</th>\n",
       "      <td>5.0</td>\n",
       "      <td>\\n2</td>\n",
       "      <td>\\nolder rider\\n</td>\n",
       "      <td>\\n\\n  received item in 2 days. Only took 20 mi...</td>\n",
       "    </tr>\n",
       "    <tr>\n",
       "      <th>299</th>\n",
       "      <td>5.0</td>\n",
       "      <td>\\nOne</td>\n",
       "      <td>\\nThe ultimate Bang for your Buck\\n</td>\n",
       "      <td>\\n\\n  Everything about this spinning bike is s...</td>\n",
       "    </tr>\n",
       "  </tbody>\n",
       "</table>\n",
       "<p>300 rows × 4 columns</p>\n",
       "</div>"
      ],
      "text/plain": [
       "     star  helpful                                              title  \\\n",
       "0     5.0    \\n488             \\nItems needed to create a pton hack\\n   \n",
       "1     5.0  \\n1,892                          \\nReview After Year One\\n   \n",
       "2     4.0    \\n590  \\nGood bike for the price.  Just do a little r...   \n",
       "3     1.0    \\n902                  \\nCompletely broke at 4 months!\\n   \n",
       "4     1.0    \\n185                         \\nDO NOT BUY THIS CYCLE!\\n   \n",
       "..    ...      ...                                                ...   \n",
       "295   5.0   \\n\\n\\n                                   \\nSolidly made\\n   \n",
       "296   5.0   \\n\\n\\n  \\nIf You're Considering a Bike for Your Home, ...   \n",
       "297   5.0   \\n\\n\\n  \\nOverall, great quality, very smooth and quie...   \n",
       "298   5.0      \\n2                                    \\nolder rider\\n   \n",
       "299   5.0    \\nOne                \\nThe ultimate Bang for your Buck\\n   \n",
       "\n",
       "                                                  text  \n",
       "0    \\n\\n  Ok so I kept searching reviews to figure...  \n",
       "1    \\n\\n  Update Post: We originally purchased one...  \n",
       "2    \\n\\n  A little maintenance here and there....B...  \n",
       "3    \\n\\n  When I initially purchased this bike I a...  \n",
       "4    \\n\\n   I purchased this Cycle with a 3 year wa...  \n",
       "..                                                 ...  \n",
       "295  \\n\\n  Extremely well made and solid, no worry ...  \n",
       "296  \\n\\n  It's surprisingly quiet and well made. I...  \n",
       "297  \\n\\n  After months of research and reading rev...  \n",
       "298  \\n\\n  received item in 2 days. Only took 20 mi...  \n",
       "299  \\n\\n  Everything about this spinning bike is s...  \n",
       "\n",
       "[300 rows x 4 columns]"
      ]
     },
     "execution_count": 2,
     "metadata": {},
     "output_type": "execute_result"
    }
   ],
   "source": [
    "data[:300]"
   ]
  },
  {
   "cell_type": "code",
   "execution_count": 3,
   "metadata": {},
   "outputs": [],
   "source": [
    "# star\n",
    "star = []\n",
    "\n",
    "for i in range(len(data['star'])):\n",
    "    s=data['star'][i]\n",
    "    star.append(s) "
   ]
  },
  {
   "cell_type": "code",
   "execution_count": 4,
   "metadata": {},
   "outputs": [],
   "source": [
    "# helpful\n",
    "helpful = []\n",
    "\n",
    "#helpful 값 없는 것 0으로 변경\n",
    "new_helpful1= []\n",
    "for i in range(len(data['helpful'])):\n",
    "    helps1=data['helpful'][i].replace('\\n\\n\\n','0')\n",
    "    new_helpful1.append(helps1)\n",
    "    \n",
    "# 공백 제거\n",
    "new_helpful2 = []\n",
    "for i in range(len(new_helpful1)):\n",
    "    helps2=new_helpful1[i].strip()\n",
    "    new_helpful2.append(helps2)\n",
    "    \n",
    "#helpful 값 'one'->'1'으로 변경\n",
    "for i in range(len(new_helpful2)):\n",
    "    helps2=new_helpful2[i].replace('One','1')\n",
    "    helpful.append(helps2)"
   ]
  },
  {
   "cell_type": "code",
   "execution_count": 5,
   "metadata": {},
   "outputs": [
    {
     "data": {
      "text/plain": [
       "'2'"
      ]
     },
     "execution_count": 5,
     "metadata": {},
     "output_type": "execute_result"
    }
   ],
   "source": [
    "helpful[300]"
   ]
  },
  {
   "cell_type": "code",
   "execution_count": 6,
   "metadata": {},
   "outputs": [
    {
     "data": {
      "text/plain": [
       "'1,892'"
      ]
     },
     "execution_count": 6,
     "metadata": {},
     "output_type": "execute_result"
    }
   ],
   "source": [
    "helpful[1]"
   ]
  },
  {
   "cell_type": "code",
   "execution_count": 7,
   "metadata": {},
   "outputs": [],
   "source": [
    "# title\n",
    "title= []\n",
    "\n",
    "for i in range(len(data['title'])):\n",
    "    t=data['title'][i].strip()\n",
    "    title.append(t) "
   ]
  },
  {
   "cell_type": "markdown",
   "metadata": {},
   "source": [
    "### 본격적인 리뷰 텍스트 데이터 전처리"
   ]
  },
  {
   "cell_type": "code",
   "execution_count": 8,
   "metadata": {},
   "outputs": [
    {
     "data": {
      "text/plain": [
       "'\\n\\n  Update Post: We originally purchased one of these bikes in June of 2015. We were a bit concerned about the low price because our intention was to use it in our fitness facility. This bike is rock solid. We now have 9 of them and will be purchasing 2 more this month. The bikes are used in spin classes daily. We have everyone from small, uber-fit petite women to hulking 6\\'2\" 255lb men. These bikes get hours and hours of use each week. I recommended this bike to an associate who is opening a fitness facility. When he was purchasing some high-end equipment from a well-known gym equipment provider, he asked them about the bike (showed them the Amazon link I sent to him) and they were dumbfounded. They said that the bike had quite impressive features, especially for a bike that inexpensive and appeared to be a very, very good bargain. They actually had the bike on their computer when he went in the next day because they researched it more and said they were quite impressed by it. That, and the fact that their lowest priced bike was a bit below $900 reassured us that we made a great choice! We have even used these bikes in the parking lot for some special events.The only problems we had with the bike were with the screw on the tension knob on one. The bolt became a bit stripped and we had to order another one. The other issue with another one was with the brakes squeaking after about 8 months. This can happen if you don\\'t \"oil\" the flywheel periodically because the brakes get dried out. A bit of treadmill oil on the flywheel fixed this immediately. We service the bikes bi-weekly, and that involves tightening the bolts on the seats (just to make sure they stay put) and just doing a check on all the bolts and moveable parts. But again, keep in mind that these bikes get literally hundreds of hours a month, so that minuscule amount of service is -wonderful-!If you\\'re looking for a cost-effective, very dependable bike, you should definitely consider purchasing one of these. Absolutely worth it!ProsLow costVery easy assemblySturdy, solid constructionMinimal maintenance neededVery easy to move (we move these puppies a lot - even outside)Shipping was quick (and cheap - Yay Prime!)ConsThe brakes may squeak a bit after a while. This is resolved by oiling the flywheel periodically. (You should do this with any spin bike and make sure the tension is released after riding to ensure they don\\'t dry a bit and squeak.\\n\\n'"
      ]
     },
     "execution_count": 8,
     "metadata": {},
     "output_type": "execute_result"
    }
   ],
   "source": [
    "data['text'][1]"
   ]
  },
  {
   "cell_type": "code",
   "execution_count": 12,
   "metadata": {},
   "outputs": [],
   "source": [
    "# 영어가 아닌 문자는 공백으로 변환(new_review1)\n",
    "import re\n",
    "\n",
    "new_review1 = []\n",
    "for i in range(len(data['text'])):\n",
    "    review1=re.sub('[^a-zA-Z]', ' ', str(data['text'][i]))\n",
    "    new_review1.append(review1)"
   ]
  },
  {
   "cell_type": "code",
   "execution_count": 13,
   "metadata": {},
   "outputs": [
    {
     "data": {
      "text/plain": [
       "'    Update Post  We originally purchased one of these bikes in June of       We were a bit concerned about the low price because our intention was to use it in our fitness facility  This bike is rock solid  We now have   of them and will be purchasing   more this month  The bikes are used in spin classes daily  We have everyone from small  uber fit petite women to hulking         lb men  These bikes get hours and hours of use each week  I recommended this bike to an associate who is opening a fitness facility  When he was purchasing some high end equipment from a well known gym equipment provider  he asked them about the bike  showed them the Amazon link I sent to him  and they were dumbfounded  They said that the bike had quite impressive features  especially for a bike that inexpensive and appeared to be a very  very good bargain  They actually had the bike on their computer when he went in the next day because they researched it more and said they were quite impressed by it  That  and the fact that their lowest priced bike was a bit below      reassured us that we made a great choice  We have even used these bikes in the parking lot for some special events The only problems we had with the bike were with the screw on the tension knob on one  The bolt became a bit stripped and we had to order another one  The other issue with another one was with the brakes squeaking after about   months  This can happen if you don t  oil  the flywheel periodically because the brakes get dried out  A bit of treadmill oil on the flywheel fixed this immediately  We service the bikes bi weekly  and that involves tightening the bolts on the seats  just to make sure they stay put  and just doing a check on all the bolts and moveable parts  But again  keep in mind that these bikes get literally hundreds of hours a month  so that minuscule amount of service is  wonderful  If you re looking for a cost effective  very dependable bike  you should definitely consider purchasing one of these  Absolutely worth it ProsLow costVery easy assemblySturdy  solid constructionMinimal maintenance neededVery easy to move  we move these puppies a lot   even outside Shipping was quick  and cheap   Yay Prime  ConsThe brakes may squeak a bit after a while  This is resolved by oiling the flywheel periodically   You should do this with any spin bike and make sure the tension is released after riding to ensure they don t dry a bit and squeak   '"
      ]
     },
     "execution_count": 13,
     "metadata": {},
     "output_type": "execute_result"
    }
   ],
   "source": [
    "new_review1[1]"
   ]
  },
  {
   "cell_type": "code",
   "execution_count": 14,
   "metadata": {},
   "outputs": [],
   "source": [
    "# /n 형태가 많아서 strip()으로 공백제거 필요 (new_review2)\n",
    "new_review2 = []\n",
    "for i in range(len(new_review1)):\n",
    "    review2=new_review1[i].strip()\n",
    "    new_review2.append(review2)"
   ]
  },
  {
   "cell_type": "code",
   "execution_count": 15,
   "metadata": {},
   "outputs": [
    {
     "data": {
      "text/plain": [
       "'Update Post  We originally purchased one of these bikes in June of       We were a bit concerned about the low price because our intention was to use it in our fitness facility  This bike is rock solid  We now have   of them and will be purchasing   more this month  The bikes are used in spin classes daily  We have everyone from small  uber fit petite women to hulking         lb men  These bikes get hours and hours of use each week  I recommended this bike to an associate who is opening a fitness facility  When he was purchasing some high end equipment from a well known gym equipment provider  he asked them about the bike  showed them the Amazon link I sent to him  and they were dumbfounded  They said that the bike had quite impressive features  especially for a bike that inexpensive and appeared to be a very  very good bargain  They actually had the bike on their computer when he went in the next day because they researched it more and said they were quite impressed by it  That  and the fact that their lowest priced bike was a bit below      reassured us that we made a great choice  We have even used these bikes in the parking lot for some special events The only problems we had with the bike were with the screw on the tension knob on one  The bolt became a bit stripped and we had to order another one  The other issue with another one was with the brakes squeaking after about   months  This can happen if you don t  oil  the flywheel periodically because the brakes get dried out  A bit of treadmill oil on the flywheel fixed this immediately  We service the bikes bi weekly  and that involves tightening the bolts on the seats  just to make sure they stay put  and just doing a check on all the bolts and moveable parts  But again  keep in mind that these bikes get literally hundreds of hours a month  so that minuscule amount of service is  wonderful  If you re looking for a cost effective  very dependable bike  you should definitely consider purchasing one of these  Absolutely worth it ProsLow costVery easy assemblySturdy  solid constructionMinimal maintenance neededVery easy to move  we move these puppies a lot   even outside Shipping was quick  and cheap   Yay Prime  ConsThe brakes may squeak a bit after a while  This is resolved by oiling the flywheel periodically   You should do this with any spin bike and make sure the tension is released after riding to ensure they don t dry a bit and squeak'"
      ]
     },
     "execution_count": 15,
     "metadata": {},
     "output_type": "execute_result"
    }
   ],
   "source": [
    "new_review2[1]"
   ]
  },
  {
   "cell_type": "code",
   "execution_count": 16,
   "metadata": {},
   "outputs": [],
   "source": [
    "# 대문자 -> 소문자 (new_review3)\n",
    "new_review3 = []\n",
    "for i in range(len(new_review2)):\n",
    "    review3=new_review2[i].lower()\n",
    "    new_review3.append(review3)"
   ]
  },
  {
   "cell_type": "code",
   "execution_count": 17,
   "metadata": {},
   "outputs": [
    {
     "data": {
      "text/plain": [
       "'update post  we originally purchased one of these bikes in june of       we were a bit concerned about the low price because our intention was to use it in our fitness facility  this bike is rock solid  we now have   of them and will be purchasing   more this month  the bikes are used in spin classes daily  we have everyone from small  uber fit petite women to hulking         lb men  these bikes get hours and hours of use each week  i recommended this bike to an associate who is opening a fitness facility  when he was purchasing some high end equipment from a well known gym equipment provider  he asked them about the bike  showed them the amazon link i sent to him  and they were dumbfounded  they said that the bike had quite impressive features  especially for a bike that inexpensive and appeared to be a very  very good bargain  they actually had the bike on their computer when he went in the next day because they researched it more and said they were quite impressed by it  that  and the fact that their lowest priced bike was a bit below      reassured us that we made a great choice  we have even used these bikes in the parking lot for some special events the only problems we had with the bike were with the screw on the tension knob on one  the bolt became a bit stripped and we had to order another one  the other issue with another one was with the brakes squeaking after about   months  this can happen if you don t  oil  the flywheel periodically because the brakes get dried out  a bit of treadmill oil on the flywheel fixed this immediately  we service the bikes bi weekly  and that involves tightening the bolts on the seats  just to make sure they stay put  and just doing a check on all the bolts and moveable parts  but again  keep in mind that these bikes get literally hundreds of hours a month  so that minuscule amount of service is  wonderful  if you re looking for a cost effective  very dependable bike  you should definitely consider purchasing one of these  absolutely worth it proslow costvery easy assemblysturdy  solid constructionminimal maintenance neededvery easy to move  we move these puppies a lot   even outside shipping was quick  and cheap   yay prime  consthe brakes may squeak a bit after a while  this is resolved by oiling the flywheel periodically   you should do this with any spin bike and make sure the tension is released after riding to ensure they don t dry a bit and squeak'"
      ]
     },
     "execution_count": 17,
     "metadata": {},
     "output_type": "execute_result"
    }
   ],
   "source": [
    "new_review3[1]"
   ]
  },
  {
   "cell_type": "code",
   "execution_count": 18,
   "metadata": {},
   "outputs": [],
   "source": [
    "# 불용어, 구두점 제거 (new_review4)\n",
    "from nltk.corpus import stopwords\n",
    "import string\n",
    "\n",
    "stop_words = set(stopwords.words('english'))\n",
    "punctuation = string.punctuation\n",
    "new_review4 = []\n",
    "\n",
    "for i in new_review3:\n",
    "    sentence = i.split()\n",
    "    s_p=[]\n",
    "    for cor in sentence:\n",
    "        if cor not in stop_words and cor not in punctuation:\n",
    "            s_p.append(cor)\n",
    "    s_p=\" \".join(s_p)    \n",
    "    new_review4.append(s_p)"
   ]
  },
  {
   "cell_type": "code",
   "execution_count": 19,
   "metadata": {
    "scrolled": true
   },
   "outputs": [
    {
     "data": {
      "text/plain": [
       "'update post originally purchased one bikes june bit concerned low price intention use fitness facility bike rock solid purchasing month bikes used spin classes daily everyone small uber fit petite women hulking lb men bikes get hours hours use week recommended bike associate opening fitness facility purchasing high end equipment well known gym equipment provider asked bike showed amazon link sent dumbfounded said bike quite impressive features especially bike inexpensive appeared good bargain actually bike computer went next day researched said quite impressed fact lowest priced bike bit reassured us made great choice even used bikes parking lot special events problems bike screw tension knob one bolt became bit stripped order another one issue another one brakes squeaking months happen oil flywheel periodically brakes get dried bit treadmill oil flywheel fixed immediately service bikes bi weekly involves tightening bolts seats make sure stay put check bolts moveable parts keep mind bikes get literally hundreds hours month minuscule amount service wonderful looking cost effective dependable bike definitely consider purchasing one absolutely worth proslow costvery easy assemblysturdy solid constructionminimal maintenance neededvery easy move move puppies lot even outside shipping quick cheap yay prime consthe brakes may squeak bit resolved oiling flywheel periodically spin bike make sure tension released riding ensure dry bit squeak'"
      ]
     },
     "execution_count": 19,
     "metadata": {},
     "output_type": "execute_result"
    }
   ],
   "source": [
    "new_review4[1]"
   ]
  },
  {
   "cell_type": "code",
   "execution_count": 22,
   "metadata": {},
   "outputs": [
    {
     "name": "stderr",
     "output_type": "stream",
     "text": [
      "IOPub data rate exceeded.\n",
      "The notebook server will temporarily stop sending output\n",
      "to the client in order to avoid crashing it.\n",
      "To change this limit, set the config variable\n",
      "`--NotebookApp.iopub_data_rate_limit`.\n",
      "\n",
      "Current values:\n",
      "NotebookApp.iopub_data_rate_limit=1000000.0 (bytes/sec)\n",
      "NotebookApp.rate_limit_window=3.0 (secs)\n",
      "\n"
     ]
    }
   ],
   "source": [
    "# stemming (new_review5)\n",
    "\n",
    "from nltk.stem.snowball import SnowballStemmer\n",
    "from nltk.stem.lancaster import LancasterStemmer\n",
    "from nltk.stem.porter import PorterStemmer\n",
    "\n",
    "snowball = SnowballStemmer('english')\n",
    "lancaster = LancasterStemmer()\n",
    "porter = PorterStemmer()\n",
    "\n",
    "for stemmer in (snowball, lancaster, porter):\n",
    "    new_review5 = [stemmer.stem(t) for t in new_review4]\n",
    "    print(\" \".join(new_review5))\n",
    "    print(new_review5)"
   ]
  },
  {
   "cell_type": "code",
   "execution_count": 23,
   "metadata": {},
   "outputs": [
    {
     "data": {
      "text/plain": [
       "'update post originally purchased one bikes june bit concerned low price intention use fitness facility bike rock solid purchasing month bikes used spin classes daily everyone small uber fit petite women hulking lb men bikes get hours hours use week recommended bike associate opening fitness facility purchasing high end equipment well known gym equipment provider asked bike showed amazon link sent dumbfounded said bike quite impressive features especially bike inexpensive appeared good bargain actually bike computer went next day researched said quite impressed fact lowest priced bike bit reassured us made great choice even used bikes parking lot special events problems bike screw tension knob one bolt became bit stripped order another one issue another one brakes squeaking months happen oil flywheel periodically brakes get dried bit treadmill oil flywheel fixed immediately service bikes bi weekly involves tightening bolts seats make sure stay put check bolts moveable parts keep mind bikes get literally hundreds hours month minuscule amount service wonderful looking cost effective dependable bike definitely consider purchasing one absolutely worth proslow costvery easy assemblysturdy solid constructionminimal maintenance neededvery easy move move puppies lot even outside shipping quick cheap yay prime consthe brakes may squeak bit resolved oiling flywheel periodically spin bike make sure tension released riding ensure dry bit squeak'"
      ]
     },
     "execution_count": 23,
     "metadata": {},
     "output_type": "execute_result"
    }
   ],
   "source": [
    "new_review5[1]"
   ]
  },
  {
   "cell_type": "code",
   "execution_count": null,
   "metadata": {},
   "outputs": [],
   "source": []
  },
  {
   "cell_type": "code",
   "execution_count": 24,
   "metadata": {},
   "outputs": [],
   "source": [
    "# lemmatize (new_review6)\n",
    "from nltk.tokenize import word_tokenize\n",
    "from nltk.stem import WordNetLemmatizer\n",
    "from nltk import pos_tag\n",
    "\n",
    "n=WordNetLemmatizer()\n",
    "new_review6=[]\n",
    "for i in range(len(new_review4)):\n",
    "    words=word_tokenize(new_review4[i])\n",
    "    lem_word=[]\n",
    "    for w in words:\n",
    "        lemm=n.lemmatize(w)\n",
    "        lem_word.append(lemm)\n",
    "    ps_tg=pos_tag(lem_word)\n",
    "    new_review6.append(ps_tg)"
   ]
  },
  {
   "cell_type": "code",
   "execution_count": 25,
   "metadata": {
    "scrolled": true
   },
   "outputs": [
    {
     "data": {
      "text/plain": [
       "[('update', 'JJ'),\n",
       " ('post', 'NN'),\n",
       " ('originally', 'RB'),\n",
       " ('purchased', 'VBD'),\n",
       " ('one', 'CD'),\n",
       " ('bike', 'NN'),\n",
       " ('june', 'NN'),\n",
       " ('bit', 'NN'),\n",
       " ('concerned', 'JJ'),\n",
       " ('low', 'JJ'),\n",
       " ('price', 'NN'),\n",
       " ('intention', 'NN'),\n",
       " ('use', 'NN'),\n",
       " ('fitness', 'NN'),\n",
       " ('facility', 'NN'),\n",
       " ('bike', 'NN'),\n",
       " ('rock', 'NN'),\n",
       " ('solid', 'JJ'),\n",
       " ('purchasing', 'VBG'),\n",
       " ('month', 'NN'),\n",
       " ('bike', 'NN'),\n",
       " ('used', 'VBN'),\n",
       " ('spin', 'JJ'),\n",
       " ('class', 'NN'),\n",
       " ('daily', 'RB'),\n",
       " ('everyone', 'NN'),\n",
       " ('small', 'JJ'),\n",
       " ('uber', 'JJ'),\n",
       " ('fit', 'JJ'),\n",
       " ('petite', 'JJ'),\n",
       " ('woman', 'NN'),\n",
       " ('hulking', 'VBG'),\n",
       " ('lb', 'JJ'),\n",
       " ('men', 'NNS'),\n",
       " ('bike', 'IN'),\n",
       " ('get', 'VB'),\n",
       " ('hour', 'NN'),\n",
       " ('hour', 'NN'),\n",
       " ('use', 'NN'),\n",
       " ('week', 'NN'),\n",
       " ('recommended', 'VBD'),\n",
       " ('bike', 'NN'),\n",
       " ('associate', 'NN'),\n",
       " ('opening', 'NN'),\n",
       " ('fitness', 'NN'),\n",
       " ('facility', 'NN'),\n",
       " ('purchasing', 'VBG'),\n",
       " ('high', 'JJ'),\n",
       " ('end', 'NN'),\n",
       " ('equipment', 'NN'),\n",
       " ('well', 'RB'),\n",
       " ('known', 'VBN'),\n",
       " ('gym', 'NN'),\n",
       " ('equipment', 'NN'),\n",
       " ('provider', 'NN'),\n",
       " ('asked', 'VBD'),\n",
       " ('bike', 'NN'),\n",
       " ('showed', 'VBD'),\n",
       " ('amazon', 'JJ'),\n",
       " ('link', 'NN'),\n",
       " ('sent', 'VBD'),\n",
       " ('dumbfounded', 'VBN'),\n",
       " ('said', 'VBD'),\n",
       " ('bike', 'IN'),\n",
       " ('quite', 'RB'),\n",
       " ('impressive', 'JJ'),\n",
       " ('feature', 'NN'),\n",
       " ('especially', 'RB'),\n",
       " ('bike', 'JJ'),\n",
       " ('inexpensive', 'JJ'),\n",
       " ('appeared', 'VBD'),\n",
       " ('good', 'JJ'),\n",
       " ('bargain', 'NN'),\n",
       " ('actually', 'RB'),\n",
       " ('bike', 'IN'),\n",
       " ('computer', 'NN'),\n",
       " ('went', 'VBD'),\n",
       " ('next', 'JJ'),\n",
       " ('day', 'NN'),\n",
       " ('researched', 'VBD'),\n",
       " ('said', 'VBD'),\n",
       " ('quite', 'RB'),\n",
       " ('impressed', 'JJ'),\n",
       " ('fact', 'NN'),\n",
       " ('lowest', 'JJS'),\n",
       " ('priced', 'VBN'),\n",
       " ('bike', 'IN'),\n",
       " ('bit', 'NN'),\n",
       " ('reassured', 'JJ'),\n",
       " ('u', 'JJ'),\n",
       " ('made', 'VBN'),\n",
       " ('great', 'JJ'),\n",
       " ('choice', 'NN'),\n",
       " ('even', 'RB'),\n",
       " ('used', 'VBD'),\n",
       " ('bike', 'IN'),\n",
       " ('parking', 'NN'),\n",
       " ('lot', 'NN'),\n",
       " ('special', 'JJ'),\n",
       " ('event', 'NN'),\n",
       " ('problem', 'NN'),\n",
       " ('bike', 'NN'),\n",
       " ('screw', 'VBD'),\n",
       " ('tension', 'NN'),\n",
       " ('knob', 'VB'),\n",
       " ('one', 'CD'),\n",
       " ('bolt', 'NN'),\n",
       " ('became', 'VBD'),\n",
       " ('bit', 'RB'),\n",
       " ('stripped', 'JJ'),\n",
       " ('order', 'NN'),\n",
       " ('another', 'DT'),\n",
       " ('one', 'CD'),\n",
       " ('issue', 'NN'),\n",
       " ('another', 'DT'),\n",
       " ('one', 'CD'),\n",
       " ('brake', 'NN'),\n",
       " ('squeaking', 'VBG'),\n",
       " ('month', 'NN'),\n",
       " ('happen', 'JJ'),\n",
       " ('oil', 'NN'),\n",
       " ('flywheel', 'NN'),\n",
       " ('periodically', 'RB'),\n",
       " ('brake', 'VB'),\n",
       " ('get', 'NN'),\n",
       " ('dried', 'VBN'),\n",
       " ('bit', 'NN'),\n",
       " ('treadmill', 'JJ'),\n",
       " ('oil', 'NN'),\n",
       " ('flywheel', 'NN'),\n",
       " ('fixed', 'VBD'),\n",
       " ('immediately', 'RB'),\n",
       " ('service', 'NN'),\n",
       " ('bike', 'NN'),\n",
       " ('bi', 'JJ'),\n",
       " ('weekly', 'JJ'),\n",
       " ('involves', 'NNS'),\n",
       " ('tightening', 'VBG'),\n",
       " ('bolt', 'JJ'),\n",
       " ('seat', 'NN'),\n",
       " ('make', 'VBP'),\n",
       " ('sure', 'JJ'),\n",
       " ('stay', 'NN'),\n",
       " ('put', 'VBD'),\n",
       " ('check', 'VB'),\n",
       " ('bolt', 'NN'),\n",
       " ('moveable', 'JJ'),\n",
       " ('part', 'NN'),\n",
       " ('keep', 'VB'),\n",
       " ('mind', 'NN'),\n",
       " ('bike', 'NN'),\n",
       " ('get', 'VBP'),\n",
       " ('literally', 'RB'),\n",
       " ('hundred', 'VBN'),\n",
       " ('hour', 'NN'),\n",
       " ('month', 'NN'),\n",
       " ('minuscule', 'NN'),\n",
       " ('amount', 'NN'),\n",
       " ('service', 'NN'),\n",
       " ('wonderful', 'JJ'),\n",
       " ('looking', 'VBG'),\n",
       " ('cost', 'NN'),\n",
       " ('effective', 'JJ'),\n",
       " ('dependable', 'JJ'),\n",
       " ('bike', 'NN'),\n",
       " ('definitely', 'RB'),\n",
       " ('consider', 'VB'),\n",
       " ('purchasing', 'VBG'),\n",
       " ('one', 'CD'),\n",
       " ('absolutely', 'RB'),\n",
       " ('worth', 'JJ'),\n",
       " ('proslow', 'JJ'),\n",
       " ('costvery', 'NN'),\n",
       " ('easy', 'JJ'),\n",
       " ('assemblysturdy', 'JJ'),\n",
       " ('solid', 'JJ'),\n",
       " ('constructionminimal', 'JJ'),\n",
       " ('maintenance', 'NN'),\n",
       " ('neededvery', 'NN'),\n",
       " ('easy', 'JJ'),\n",
       " ('move', 'NN'),\n",
       " ('move', 'NN'),\n",
       " ('puppy', 'NN'),\n",
       " ('lot', 'NN'),\n",
       " ('even', 'RB'),\n",
       " ('outside', 'IN'),\n",
       " ('shipping', 'VBG'),\n",
       " ('quick', 'JJ'),\n",
       " ('cheap', 'JJ'),\n",
       " ('yay', 'NN'),\n",
       " ('prime', 'JJ'),\n",
       " ('consthe', 'NNS'),\n",
       " ('brake', 'NN'),\n",
       " ('may', 'MD'),\n",
       " ('squeak', 'VB'),\n",
       " ('bit', 'NN'),\n",
       " ('resolved', 'JJ'),\n",
       " ('oiling', 'VBG'),\n",
       " ('flywheel', 'NN'),\n",
       " ('periodically', 'RB'),\n",
       " ('spin', 'VBZ'),\n",
       " ('bike', 'JJ'),\n",
       " ('make', 'VBP'),\n",
       " ('sure', 'JJ'),\n",
       " ('tension', 'NN'),\n",
       " ('released', 'VBD'),\n",
       " ('riding', 'JJ'),\n",
       " ('ensure', 'VB'),\n",
       " ('dry', 'JJ'),\n",
       " ('bit', 'NN'),\n",
       " ('squeak', 'JJ')]"
      ]
     },
     "execution_count": 25,
     "metadata": {},
     "output_type": "execute_result"
    }
   ],
   "source": [
    "new_review6[1]"
   ]
  },
  {
   "cell_type": "code",
   "execution_count": 26,
   "metadata": {},
   "outputs": [],
   "source": [
    "# 명동형부사추출 (new_review6)\n",
    "new_review7=[]\n",
    "for i in new_review6:\n",
    "    a=[]\n",
    "    for j in i:\n",
    "        if (j[1]=='NN' or j[1]=='NNP' or j[1]=='NNS' or j[1]=='NNPS' or j[1]=='VB'or j[1]=='VBD'or j[1]=='VBG'or j[1]=='VBN'or j[1]=='VBP'or j[1]=='VBZ'or j[1]=='VH'or j[1]=='VHD'or j[1]=='VHG'or j[1]=='VHN'or j[1]=='VHP'or j[1]=='VHZ'or j[1]=='VV'or j[1]=='VVD'or j[1]=='VVG'or j[1]=='VVN'or j[1]=='VVP'or j[1]=='VVZ'or j[1]=='JJ'or j[1]=='JJR'or j[1]=='JJS'or j[1]=='RB'or j[1]=='RBR'or j[1]=='RBS'):\n",
    "            a.append(j[0])\n",
    "    new_review7.append(a)"
   ]
  },
  {
   "cell_type": "code",
   "execution_count": 27,
   "metadata": {
    "scrolled": true
   },
   "outputs": [
    {
     "data": {
      "text/plain": [
       "['update',\n",
       " 'post',\n",
       " 'originally',\n",
       " 'purchased',\n",
       " 'bike',\n",
       " 'june',\n",
       " 'bit',\n",
       " 'concerned',\n",
       " 'low',\n",
       " 'price',\n",
       " 'intention',\n",
       " 'use',\n",
       " 'fitness',\n",
       " 'facility',\n",
       " 'bike',\n",
       " 'rock',\n",
       " 'solid',\n",
       " 'purchasing',\n",
       " 'month',\n",
       " 'bike',\n",
       " 'used',\n",
       " 'spin',\n",
       " 'class',\n",
       " 'daily',\n",
       " 'everyone',\n",
       " 'small',\n",
       " 'uber',\n",
       " 'fit',\n",
       " 'petite',\n",
       " 'woman',\n",
       " 'hulking',\n",
       " 'lb',\n",
       " 'men',\n",
       " 'get',\n",
       " 'hour',\n",
       " 'hour',\n",
       " 'use',\n",
       " 'week',\n",
       " 'recommended',\n",
       " 'bike',\n",
       " 'associate',\n",
       " 'opening',\n",
       " 'fitness',\n",
       " 'facility',\n",
       " 'purchasing',\n",
       " 'high',\n",
       " 'end',\n",
       " 'equipment',\n",
       " 'well',\n",
       " 'known',\n",
       " 'gym',\n",
       " 'equipment',\n",
       " 'provider',\n",
       " 'asked',\n",
       " 'bike',\n",
       " 'showed',\n",
       " 'amazon',\n",
       " 'link',\n",
       " 'sent',\n",
       " 'dumbfounded',\n",
       " 'said',\n",
       " 'quite',\n",
       " 'impressive',\n",
       " 'feature',\n",
       " 'especially',\n",
       " 'bike',\n",
       " 'inexpensive',\n",
       " 'appeared',\n",
       " 'good',\n",
       " 'bargain',\n",
       " 'actually',\n",
       " 'computer',\n",
       " 'went',\n",
       " 'next',\n",
       " 'day',\n",
       " 'researched',\n",
       " 'said',\n",
       " 'quite',\n",
       " 'impressed',\n",
       " 'fact',\n",
       " 'lowest',\n",
       " 'priced',\n",
       " 'bit',\n",
       " 'reassured',\n",
       " 'u',\n",
       " 'made',\n",
       " 'great',\n",
       " 'choice',\n",
       " 'even',\n",
       " 'used',\n",
       " 'parking',\n",
       " 'lot',\n",
       " 'special',\n",
       " 'event',\n",
       " 'problem',\n",
       " 'bike',\n",
       " 'screw',\n",
       " 'tension',\n",
       " 'knob',\n",
       " 'bolt',\n",
       " 'became',\n",
       " 'bit',\n",
       " 'stripped',\n",
       " 'order',\n",
       " 'issue',\n",
       " 'brake',\n",
       " 'squeaking',\n",
       " 'month',\n",
       " 'happen',\n",
       " 'oil',\n",
       " 'flywheel',\n",
       " 'periodically',\n",
       " 'brake',\n",
       " 'get',\n",
       " 'dried',\n",
       " 'bit',\n",
       " 'treadmill',\n",
       " 'oil',\n",
       " 'flywheel',\n",
       " 'fixed',\n",
       " 'immediately',\n",
       " 'service',\n",
       " 'bike',\n",
       " 'bi',\n",
       " 'weekly',\n",
       " 'involves',\n",
       " 'tightening',\n",
       " 'bolt',\n",
       " 'seat',\n",
       " 'make',\n",
       " 'sure',\n",
       " 'stay',\n",
       " 'put',\n",
       " 'check',\n",
       " 'bolt',\n",
       " 'moveable',\n",
       " 'part',\n",
       " 'keep',\n",
       " 'mind',\n",
       " 'bike',\n",
       " 'get',\n",
       " 'literally',\n",
       " 'hundred',\n",
       " 'hour',\n",
       " 'month',\n",
       " 'minuscule',\n",
       " 'amount',\n",
       " 'service',\n",
       " 'wonderful',\n",
       " 'looking',\n",
       " 'cost',\n",
       " 'effective',\n",
       " 'dependable',\n",
       " 'bike',\n",
       " 'definitely',\n",
       " 'consider',\n",
       " 'purchasing',\n",
       " 'absolutely',\n",
       " 'worth',\n",
       " 'proslow',\n",
       " 'costvery',\n",
       " 'easy',\n",
       " 'assemblysturdy',\n",
       " 'solid',\n",
       " 'constructionminimal',\n",
       " 'maintenance',\n",
       " 'neededvery',\n",
       " 'easy',\n",
       " 'move',\n",
       " 'move',\n",
       " 'puppy',\n",
       " 'lot',\n",
       " 'even',\n",
       " 'shipping',\n",
       " 'quick',\n",
       " 'cheap',\n",
       " 'yay',\n",
       " 'prime',\n",
       " 'consthe',\n",
       " 'brake',\n",
       " 'squeak',\n",
       " 'bit',\n",
       " 'resolved',\n",
       " 'oiling',\n",
       " 'flywheel',\n",
       " 'periodically',\n",
       " 'spin',\n",
       " 'bike',\n",
       " 'make',\n",
       " 'sure',\n",
       " 'tension',\n",
       " 'released',\n",
       " 'riding',\n",
       " 'ensure',\n",
       " 'dry',\n",
       " 'bit',\n",
       " 'squeak']"
      ]
     },
     "execution_count": 27,
     "metadata": {},
     "output_type": "execute_result"
    }
   ],
   "source": [
    "new_review7[1]"
   ]
  },
  {
   "cell_type": "code",
   "execution_count": 28,
   "metadata": {},
   "outputs": [],
   "source": [
    "# 합치기 => 최종\n",
    "text=[]\n",
    "for i in new_review7 :\n",
    "    lem_join=\" \".join(i)\n",
    "    text.append(lem_join)"
   ]
  },
  {
   "cell_type": "code",
   "execution_count": 29,
   "metadata": {},
   "outputs": [
    {
     "data": {
      "text/plain": [
       "'update post originally purchased bike june bit concerned low price intention use fitness facility bike rock solid purchasing month bike used spin class daily everyone small uber fit petite woman hulking lb men get hour hour use week recommended bike associate opening fitness facility purchasing high end equipment well known gym equipment provider asked bike showed amazon link sent dumbfounded said quite impressive feature especially bike inexpensive appeared good bargain actually computer went next day researched said quite impressed fact lowest priced bit reassured u made great choice even used parking lot special event problem bike screw tension knob bolt became bit stripped order issue brake squeaking month happen oil flywheel periodically brake get dried bit treadmill oil flywheel fixed immediately service bike bi weekly involves tightening bolt seat make sure stay put check bolt moveable part keep mind bike get literally hundred hour month minuscule amount service wonderful looking cost effective dependable bike definitely consider purchasing absolutely worth proslow costvery easy assemblysturdy solid constructionminimal maintenance neededvery easy move move puppy lot even shipping quick cheap yay prime consthe brake squeak bit resolved oiling flywheel periodically spin bike make sure tension released riding ensure dry bit squeak'"
      ]
     },
     "execution_count": 29,
     "metadata": {},
     "output_type": "execute_result"
    }
   ],
   "source": [
    "text[1]"
   ]
  },
  {
   "cell_type": "code",
   "execution_count": 30,
   "metadata": {},
   "outputs": [],
   "source": [
    "df=pd.DataFrame([star,helpful,title,text],index=['star','helpful','title','text']).T"
   ]
  },
  {
   "cell_type": "code",
   "execution_count": 31,
   "metadata": {},
   "outputs": [
    {
     "data": {
      "text/html": [
       "<div>\n",
       "<style scoped>\n",
       "    .dataframe tbody tr th:only-of-type {\n",
       "        vertical-align: middle;\n",
       "    }\n",
       "\n",
       "    .dataframe tbody tr th {\n",
       "        vertical-align: top;\n",
       "    }\n",
       "\n",
       "    .dataframe thead th {\n",
       "        text-align: right;\n",
       "    }\n",
       "</style>\n",
       "<table border=\"1\" class=\"dataframe\">\n",
       "  <thead>\n",
       "    <tr style=\"text-align: right;\">\n",
       "      <th></th>\n",
       "      <th>star</th>\n",
       "      <th>helpful</th>\n",
       "      <th>title</th>\n",
       "      <th>text</th>\n",
       "    </tr>\n",
       "  </thead>\n",
       "  <tbody>\n",
       "    <tr>\n",
       "      <th>0</th>\n",
       "      <td>5</td>\n",
       "      <td>488</td>\n",
       "      <td>Items needed to create a pton hack</td>\n",
       "      <td>ok kept searching review figure needed create ...</td>\n",
       "    </tr>\n",
       "    <tr>\n",
       "      <th>1</th>\n",
       "      <td>5</td>\n",
       "      <td>1,892</td>\n",
       "      <td>Review After Year One</td>\n",
       "      <td>update post originally purchased bike june bit...</td>\n",
       "    </tr>\n",
       "    <tr>\n",
       "      <th>2</th>\n",
       "      <td>4</td>\n",
       "      <td>590</td>\n",
       "      <td>Good bike for the price.  Just do a little reg...</td>\n",
       "      <td>little maintenance bought sunny spin bike late...</td>\n",
       "    </tr>\n",
       "    <tr>\n",
       "      <th>3</th>\n",
       "      <td>1</td>\n",
       "      <td>902</td>\n",
       "      <td>Completely broke at 4 months!</td>\n",
       "      <td>initially purchased bike absolutely loved easy...</td>\n",
       "    </tr>\n",
       "    <tr>\n",
       "      <th>4</th>\n",
       "      <td>1</td>\n",
       "      <td>185</td>\n",
       "      <td>DO NOT BUY THIS CYCLE!</td>\n",
       "      <td>purchased cycle year warranty package assembly...</td>\n",
       "    </tr>\n",
       "    <tr>\n",
       "      <th>...</th>\n",
       "      <td>...</td>\n",
       "      <td>...</td>\n",
       "      <td>...</td>\n",
       "      <td>...</td>\n",
       "    </tr>\n",
       "    <tr>\n",
       "      <th>2925</th>\n",
       "      <td>1</td>\n",
       "      <td>0</td>\n",
       "      <td>One Star</td>\n",
       "      <td>bike garbage</td>\n",
       "    </tr>\n",
       "    <tr>\n",
       "      <th>2926</th>\n",
       "      <td>5</td>\n",
       "      <td>0</td>\n",
       "      <td>Five Stars</td>\n",
       "      <td>great bike</td>\n",
       "    </tr>\n",
       "    <tr>\n",
       "      <th>2927</th>\n",
       "      <td>2</td>\n",
       "      <td>0</td>\n",
       "      <td>Gets the job done</td>\n",
       "      <td>fitment terrible nothing pretty feature get jo...</td>\n",
       "    </tr>\n",
       "    <tr>\n",
       "      <th>2928</th>\n",
       "      <td>5</td>\n",
       "      <td>0</td>\n",
       "      <td>Great!</td>\n",
       "      <td>amazing</td>\n",
       "    </tr>\n",
       "    <tr>\n",
       "      <th>2929</th>\n",
       "      <td>5</td>\n",
       "      <td>0</td>\n",
       "      <td>need some info</td>\n",
       "      <td>someone tell handlebar adjust forward back wel...</td>\n",
       "    </tr>\n",
       "  </tbody>\n",
       "</table>\n",
       "<p>2930 rows × 4 columns</p>\n",
       "</div>"
      ],
      "text/plain": [
       "     star helpful                                              title  \\\n",
       "0       5     488                 Items needed to create a pton hack   \n",
       "1       5   1,892                              Review After Year One   \n",
       "2       4     590  Good bike for the price.  Just do a little reg...   \n",
       "3       1     902                      Completely broke at 4 months!   \n",
       "4       1     185                             DO NOT BUY THIS CYCLE!   \n",
       "...   ...     ...                                                ...   \n",
       "2925    1       0                                           One Star   \n",
       "2926    5       0                                         Five Stars   \n",
       "2927    2       0                                  Gets the job done   \n",
       "2928    5       0                                             Great!   \n",
       "2929    5       0                                     need some info   \n",
       "\n",
       "                                                   text  \n",
       "0     ok kept searching review figure needed create ...  \n",
       "1     update post originally purchased bike june bit...  \n",
       "2     little maintenance bought sunny spin bike late...  \n",
       "3     initially purchased bike absolutely loved easy...  \n",
       "4     purchased cycle year warranty package assembly...  \n",
       "...                                                 ...  \n",
       "2925                                       bike garbage  \n",
       "2926                                         great bike  \n",
       "2927  fitment terrible nothing pretty feature get jo...  \n",
       "2928                                            amazing  \n",
       "2929  someone tell handlebar adjust forward back wel...  \n",
       "\n",
       "[2930 rows x 4 columns]"
      ]
     },
     "execution_count": 31,
     "metadata": {},
     "output_type": "execute_result"
    }
   ],
   "source": [
    "df"
   ]
  },
  {
   "cell_type": "code",
   "execution_count": 32,
   "metadata": {},
   "outputs": [],
   "source": [
    "df.to_csv(r'C:\\Users\\yebin\\OneDrive\\바탕 화면\\4-2\\2_비정형데이터분석\\중간발표\\결과값\\pre3_Sunny.csv',encoding='utf-8')"
   ]
  }
 ],
 "metadata": {
  "kernelspec": {
   "display_name": "Python 3",
   "language": "python",
   "name": "python3"
  },
  "language_info": {
   "codemirror_mode": {
    "name": "ipython",
    "version": 3
   },
   "file_extension": ".py",
   "mimetype": "text/x-python",
   "name": "python",
   "nbconvert_exporter": "python",
   "pygments_lexer": "ipython3",
   "version": "3.8.3"
  }
 },
 "nbformat": 4,
 "nbformat_minor": 4
}
