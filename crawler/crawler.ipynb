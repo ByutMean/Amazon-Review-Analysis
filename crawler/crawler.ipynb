{
 "cells": [
  {
   "cell_type": "code",
   "execution_count": 1,
   "metadata": {},
   "outputs": [],
   "source": [
    "from selenium import webdriver\n",
    "from bs4 import BeautifulSoup\n",
    "from selenium.webdriver.common.keys import Keys\n",
    "import time\n",
    "import requests\n",
    "import re\n",
    "import pandas as pd\n",
    "import csv"
   ]
  },
  {
   "cell_type": "code",
   "execution_count": 2,
   "metadata": {},
   "outputs": [],
   "source": [
    "options=webdriver.ChromeOptions()\n",
    "options.add_argument(\"user-agent=Mozilla/5.0 (Macintosh; Intel Mac OS X 10_12_6) AppleWebKit/537.36 \\\n",
    "                      (KHTML, like Gecko) Chrome/79.0.3945.88 Safari/537.36\")\n",
    "options.add_argument(\"lang=ko_KR\")"
   ]
  },
  {
   "cell_type": "code",
   "execution_count": 3,
   "metadata": {},
   "outputs": [],
   "source": [
    "driver=webdriver.Chrome('C:\\\\Users\\\\yebin\\\\OneDrive\\\\바탕 화면\\\\chromedriver_win32\\\\chromedriver')\n",
    "\n",
    "url = \"https://www.amazon.com/Sunny-Spin-Bikes-Health-Fitness-Indoor-Cycling/product-reviews/B002CVU2HG/ref=cm_cr_arp_d_paging_btm_next_2?ie=UTF8&reviewerType=all_reviews&pageNumber={}\"\n",
    "\n",
    "titles = ['title']\n",
    "texts = ['text']\n",
    "stars = ['star']\n",
    "helpfuls = ['helpful']\n",
    "\n",
    "for page in range(1,294):  # Sunny 1-294 (8개 빠짐) ->  2930개의 리뷰\n",
    "    base_url=url.format(page)\n",
    "    driver.get(base_url)\n",
    "    \n",
    "    soup = BeautifulSoup(driver.page_source, 'lxml')\n",
    "    review_title = soup.find_all('a', attrs={\"data-hook\":\"review-title\"})\n",
    "    review_text = soup.find_all('div', attrs={\"class\":\"a-row a-spacing-small review-data\"})\n",
    "    review_star = soup.find_all('i', attrs={\"data-hook\":\"review-star-rating\"})\n",
    "    review_helpful = soup.find_all('span', attrs={\"data-hook\":\"review-voting-widget\"})\n",
    "    for i in range(len(review_title)):\n",
    "        titles.append(review_title[i].text)\n",
    "    for i in range(len(review_text)):\n",
    "        texts.append(review_text[i].text)\n",
    "    for i in range(len(review_star)):\n",
    "        stars.append(review_star[i].text.split(' ')[0])\n",
    "    for i in range(len(review_helpful)):\n",
    "        helpfuls.append(review_helpful[i].text.split(' ')[0])\n",
    "        \n",
    "driver.close()"
   ]
  },
  {
   "cell_type": "code",
   "execution_count": 4,
   "metadata": {
    "scrolled": true
   },
   "outputs": [
    {
     "data": {
      "text/plain": [
       "2931"
      ]
     },
     "execution_count": 4,
     "metadata": {},
     "output_type": "execute_result"
    }
   ],
   "source": [
    "len(titles)"
   ]
  },
  {
   "cell_type": "code",
   "execution_count": 5,
   "metadata": {},
   "outputs": [
    {
     "data": {
      "text/plain": [
       "2931"
      ]
     },
     "execution_count": 5,
     "metadata": {},
     "output_type": "execute_result"
    }
   ],
   "source": [
    "len(texts)"
   ]
  },
  {
   "cell_type": "code",
   "execution_count": 6,
   "metadata": {
    "scrolled": true
   },
   "outputs": [
    {
     "data": {
      "text/plain": [
       "2931"
      ]
     },
     "execution_count": 6,
     "metadata": {},
     "output_type": "execute_result"
    }
   ],
   "source": [
    "len(helpfuls)"
   ]
  },
  {
   "cell_type": "code",
   "execution_count": null,
   "metadata": {
    "scrolled": true
   },
   "outputs": [],
   "source": [
    "helpfuls"
   ]
  },
  {
   "cell_type": "code",
   "execution_count": 7,
   "metadata": {
    "scrolled": true
   },
   "outputs": [
    {
     "data": {
      "text/plain": [
       "2931"
      ]
     },
     "execution_count": 7,
     "metadata": {},
     "output_type": "execute_result"
    }
   ],
   "source": [
    "len(stars)"
   ]
  },
  {
   "cell_type": "code",
   "execution_count": 8,
   "metadata": {},
   "outputs": [],
   "source": [
    "data=list(zip(stars,helpfuls,titles,texts))"
   ]
  },
  {
   "cell_type": "code",
   "execution_count": 9,
   "metadata": {},
   "outputs": [],
   "source": [
    "f='C:\\\\Users\\\\yebin\\\\OneDrive\\\\바탕 화면\\\\4-2\\\\2_비정형데이터분석\\\\중간발표\\\\결과값\\\\review_Sunny.csv'\n",
    "\n",
    "file = open(f, 'w', encoding='utf-8', newline='')\n",
    "csvfile = csv.writer(file)\n",
    "for row in data:\n",
    "    csvfile.writerow(row)\n",
    "\n",
    "file.close()"
   ]
  },
  {
   "cell_type": "code",
   "execution_count": null,
   "metadata": {},
   "outputs": [],
   "source": []
  }
 ],
 "metadata": {
  "kernelspec": {
   "display_name": "Python 3",
   "language": "python",
   "name": "python3"
  },
  "language_info": {
   "codemirror_mode": {
    "name": "ipython",
    "version": 3
   },
   "file_extension": ".py",
   "mimetype": "text/x-python",
   "name": "python",
   "nbconvert_exporter": "python",
   "pygments_lexer": "ipython3",
   "version": "3.8.3"
  }
 },
 "nbformat": 4,
 "nbformat_minor": 4
}
