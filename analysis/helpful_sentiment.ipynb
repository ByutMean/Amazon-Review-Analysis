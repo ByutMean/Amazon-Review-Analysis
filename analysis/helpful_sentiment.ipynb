{
 "cells": [
  {
   "cell_type": "code",
   "execution_count": null,
   "metadata": {},
   "outputs": [],
   "source": []
  },
  {
   "cell_type": "code",
   "execution_count": 2,
   "metadata": {},
   "outputs": [],
   "source": [
    "import pandas as pd\n",
    "import re\n",
    "data = pd.read_excel(r'sunny_keyword최종.xlsx',sheet_name='keyword', encoding = \"utf8\", error_bad_lines=False)\n",
    "review=pd.read_csv(r'pre3_Sunny.csv', header=0, encoding = \"utf8\", error_bad_lines=False)"
   ]
  },
  {
   "cell_type": "code",
   "execution_count": 12,
   "metadata": {},
   "outputs": [],
   "source": [
    "review['helpful'] = review['helpful'].apply(lambda x : re.sub(\"[^0-9]\",\"\", format(x)))\n",
    "review['helpful'] = review['helpful'].apply(lambda x : int(x))"
   ]
  },
  {
   "cell_type": "code",
   "execution_count": 43,
   "metadata": {},
   "outputs": [],
   "source": [
    "is_helpful_data= (review['helpful']>=1)\n",
    "n_review=review[is_helpful_data]"
   ]
  },
  {
   "cell_type": "code",
   "execution_count": 44,
   "metadata": {},
   "outputs": [
    {
     "data": {
      "text/html": [
       "<div>\n",
       "<style scoped>\n",
       "    .dataframe tbody tr th:only-of-type {\n",
       "        vertical-align: middle;\n",
       "    }\n",
       "\n",
       "    .dataframe tbody tr th {\n",
       "        vertical-align: top;\n",
       "    }\n",
       "\n",
       "    .dataframe thead th {\n",
       "        text-align: right;\n",
       "    }\n",
       "</style>\n",
       "<table border=\"1\" class=\"dataframe\">\n",
       "  <thead>\n",
       "    <tr style=\"text-align: right;\">\n",
       "      <th></th>\n",
       "      <th>Unnamed: 0</th>\n",
       "      <th>star</th>\n",
       "      <th>helpful</th>\n",
       "      <th>title</th>\n",
       "      <th>text</th>\n",
       "    </tr>\n",
       "  </thead>\n",
       "  <tbody>\n",
       "    <tr>\n",
       "      <th>0</th>\n",
       "      <td>0</td>\n",
       "      <td>5.0</td>\n",
       "      <td>488</td>\n",
       "      <td>Items needed to create a pton hack</td>\n",
       "      <td>ok kept searching review figure needed create ...</td>\n",
       "    </tr>\n",
       "    <tr>\n",
       "      <th>1</th>\n",
       "      <td>1</td>\n",
       "      <td>5.0</td>\n",
       "      <td>1892</td>\n",
       "      <td>Review After Year One</td>\n",
       "      <td>update post originally purchased bike june bit...</td>\n",
       "    </tr>\n",
       "    <tr>\n",
       "      <th>2</th>\n",
       "      <td>2</td>\n",
       "      <td>4.0</td>\n",
       "      <td>590</td>\n",
       "      <td>Good bike for the price.  Just do a little reg...</td>\n",
       "      <td>little maintenance bought sunny spin bike late...</td>\n",
       "    </tr>\n",
       "    <tr>\n",
       "      <th>3</th>\n",
       "      <td>3</td>\n",
       "      <td>1.0</td>\n",
       "      <td>902</td>\n",
       "      <td>Completely broke at 4 months!</td>\n",
       "      <td>initially purchased bike absolutely loved easy...</td>\n",
       "    </tr>\n",
       "    <tr>\n",
       "      <th>4</th>\n",
       "      <td>4</td>\n",
       "      <td>1.0</td>\n",
       "      <td>185</td>\n",
       "      <td>DO NOT BUY THIS CYCLE!</td>\n",
       "      <td>purchased cycle year warranty package assembly...</td>\n",
       "    </tr>\n",
       "    <tr>\n",
       "      <th>...</th>\n",
       "      <td>...</td>\n",
       "      <td>...</td>\n",
       "      <td>...</td>\n",
       "      <td>...</td>\n",
       "      <td>...</td>\n",
       "    </tr>\n",
       "    <tr>\n",
       "      <th>2914</th>\n",
       "      <td>2914</td>\n",
       "      <td>4.0</td>\n",
       "      <td>1</td>\n",
       "      <td>Fitness cycling</td>\n",
       "      <td>quiet sturdy definitely getting good workout s...</td>\n",
       "    </tr>\n",
       "    <tr>\n",
       "      <th>2916</th>\n",
       "      <td>2916</td>\n",
       "      <td>1.0</td>\n",
       "      <td>18</td>\n",
       "      <td>Short Life Span</td>\n",
       "      <td>great bike easy assemble bike appeared sturdy ...</td>\n",
       "    </tr>\n",
       "    <tr>\n",
       "      <th>2918</th>\n",
       "      <td>2918</td>\n",
       "      <td>1.0</td>\n",
       "      <td>1</td>\n",
       "      <td>Noisy</td>\n",
       "      <td>bike sturdy mine made lot noise afraid interes...</td>\n",
       "    </tr>\n",
       "    <tr>\n",
       "      <th>2920</th>\n",
       "      <td>2920</td>\n",
       "      <td>1.0</td>\n",
       "      <td>1</td>\n",
       "      <td>a nice bike with noises</td>\n",
       "      <td>biggest complain noise device reply friction p...</td>\n",
       "    </tr>\n",
       "    <tr>\n",
       "      <th>2922</th>\n",
       "      <td>2922</td>\n",
       "      <td>1.0</td>\n",
       "      <td>14</td>\n",
       "      <td>FRAUD PRICING- RETAIL IS NOT $599 BUT RATHER $...</td>\n",
       "      <td>way purchasing last minute decided double chec...</td>\n",
       "    </tr>\n",
       "  </tbody>\n",
       "</table>\n",
       "<p>1246 rows × 5 columns</p>\n",
       "</div>"
      ],
      "text/plain": [
       "      Unnamed: 0  star  helpful  \\\n",
       "0              0   5.0      488   \n",
       "1              1   5.0     1892   \n",
       "2              2   4.0      590   \n",
       "3              3   1.0      902   \n",
       "4              4   1.0      185   \n",
       "...          ...   ...      ...   \n",
       "2914        2914   4.0        1   \n",
       "2916        2916   1.0       18   \n",
       "2918        2918   1.0        1   \n",
       "2920        2920   1.0        1   \n",
       "2922        2922   1.0       14   \n",
       "\n",
       "                                                  title  \\\n",
       "0                    Items needed to create a pton hack   \n",
       "1                                 Review After Year One   \n",
       "2     Good bike for the price.  Just do a little reg...   \n",
       "3                         Completely broke at 4 months!   \n",
       "4                                DO NOT BUY THIS CYCLE!   \n",
       "...                                                 ...   \n",
       "2914                                    Fitness cycling   \n",
       "2916                                    Short Life Span   \n",
       "2918                                              Noisy   \n",
       "2920                            a nice bike with noises   \n",
       "2922  FRAUD PRICING- RETAIL IS NOT $599 BUT RATHER $...   \n",
       "\n",
       "                                                   text  \n",
       "0     ok kept searching review figure needed create ...  \n",
       "1     update post originally purchased bike june bit...  \n",
       "2     little maintenance bought sunny spin bike late...  \n",
       "3     initially purchased bike absolutely loved easy...  \n",
       "4     purchased cycle year warranty package assembly...  \n",
       "...                                                 ...  \n",
       "2914  quiet sturdy definitely getting good workout s...  \n",
       "2916  great bike easy assemble bike appeared sturdy ...  \n",
       "2918  bike sturdy mine made lot noise afraid interes...  \n",
       "2920  biggest complain noise device reply friction p...  \n",
       "2922  way purchasing last minute decided double chec...  \n",
       "\n",
       "[1246 rows x 5 columns]"
      ]
     },
     "execution_count": 44,
     "metadata": {},
     "output_type": "execute_result"
    }
   ],
   "source": [
    "n_review"
   ]
  },
  {
   "cell_type": "code",
   "execution_count": 45,
   "metadata": {},
   "outputs": [],
   "source": [
    "n_review=n_review['text']"
   ]
  },
  {
   "cell_type": "code",
   "execution_count": 18,
   "metadata": {},
   "outputs": [],
   "source": [
    "hardware_keyword=data['Hardware']\n",
    "softwear_maneuverability_keyword=data['Softwear+Maneuverability']\n",
    "assemble_keyword=data['Assemble']\n",
    "price_keyword=data['Price']\n",
    "shipment_keyword=data['Shipment']\n",
    "noise_keyword=data['Noise']\n",
    "durability_keyword=data['내구성(durability)']\n",
    "service_keyword=data['Service']\n",
    "appearnace_keyword=data['Appearance']\n",
    "\n",
    "#키워드 불러옴"
   ]
  },
  {
   "cell_type": "code",
   "execution_count": 19,
   "metadata": {},
   "outputs": [],
   "source": [
    "hardware_keyword=hardware_keyword.dropna()\n",
    "softwear_maneuverability_keyword=softwear_maneuverability_keyword.dropna()\n",
    "assemble_keyword=assemble_keyword.dropna()\n",
    "price_keyword=price_keyword.dropna()\n",
    "shipment_keyword=shipment_keyword.dropna()\n",
    "noise_keyword=noise_keyword.dropna()\n",
    "durability_keyword=durability_keyword.dropna()\n",
    "service_keyword=service_keyword.dropna()\n",
    "appearnace_keyword=appearnace_keyword.dropna()\n",
    "\n",
    "#결측치 다 제거"
   ]
  },
  {
   "cell_type": "code",
   "execution_count": 20,
   "metadata": {},
   "outputs": [],
   "source": [
    "def get_feature_keywords(feature_keywords, review):\n",
    "    feature_temp = []\n",
    "    for keyword in feature_keywords:\n",
    "        if re.findall(keyword, str(review)):\n",
    "            if (review.find(keyword)==0): # 키워드가 문장의 처음에 위치\n",
    "                cc= review.find(' ',review.find(keyword)+1)\n",
    "                dd= review[cc:]\n",
    "                if dd.count(' ')==0:\n",
    "                    a= re.findall(keyword,str(review))\n",
    "                elif dd.count(' ')==1:\n",
    "                    a= re.findall(keyword +'+\\s+[a-zA-Z0-9]+',str(review)) #키뒤 1\n",
    "                elif dd.count(' ')==2:\n",
    "                    a= re.findall(keyword +'+\\s+[a-zA-Z0-9]+\\s+[a-zA-Z0-9]+',str(review)) #키뒤2\n",
    "                elif dd.count(' ')==3:\n",
    "                    a= re.findall(keyword +'+\\s+[a-zA-Z0-9]+\\s+[a-zA-Z0-9]+\\s+[a-zA-Z0-9]+',str(review)) #키뒤3\n",
    "                elif dd.count(' ')==4:\n",
    "                    a= re.findall(keyword +'+\\s+[a-zA-Z0-9]+\\s+[a-zA-Z0-9]+\\s+[a-zA-Z0-9]+\\s+[a-zA-Z0-9]+',str(review)) #키뒤4\n",
    "                elif dd.count(' ')==5 :\n",
    "                    a= re.findall(keyword +'+\\s+[a-zA-Z0-9]+\\s+[a-zA-Z0-9]+\\s+[a-zA-Z0-9]+\\s+[a-zA-Z0-9]+\\s+[a-zA-Z0-9]+',str(review)) #키뒤5\n",
    "                else:\n",
    "                    a= re.findall(keyword +'+\\s+[a-zA-Z0-9]+\\s+[a-zA-Z0-9]+\\s+[a-zA-Z0-9]+\\s+[a-zA-Z0-9]+\\s+[a-zA-Z0-9]+\\s+[a-zA-Z0-9]+',str(review)) #키뒤5\n",
    "\n",
    "                for ngram in a: \n",
    "                    feature_temp.append(ngram)\n",
    "            else:\n",
    "                aa= review.find(' ',review.find(keyword)-1)\n",
    "                bb= review[0:aa]\n",
    "                cc= review.find(' ',review.find(keyword)+1)\n",
    "                dd= review[cc:]\n",
    "                \n",
    "                if bb.count(' ')==0: #키워드 앞에 한단어가 있을때\n",
    "                    if dd.count(' ')==0:\n",
    "                        a= re.findall('[a-zA-Z0-9]+\\s'+ keyword,str(review))\n",
    "                    elif dd.count(' ')==1:\n",
    "                        a= re.findall('[a-zA-Z0-9]+\\s'+ keyword +'+\\s+[a-zA-Z0-9]+',str(review)) #키앞 1 키뒤 1\n",
    "                    elif dd.count(' ')==2:\n",
    "                        a= re.findall('[a-zA-Z0-9]+\\s'+ keyword +'+\\s+[a-zA-Z0-9]+\\s+[a-zA-Z0-9]+',str(review)) #키앞1 키뒤2\n",
    "                    elif dd.count(' ')==3:\n",
    "                        a= re.findall('[a-zA-Z0-9]+\\s'+ keyword +'+\\s+[a-zA-Z0-9]+\\s+[a-zA-Z0-9]+\\s+[a-zA-Z0-9]+',str(review)) #키앞1 키뒤3\n",
    "                    elif dd.count(' ')==4:\n",
    "                        a= re.findall('[a-zA-Z0-9]+\\s'+ keyword +'+\\s+[a-zA-Z0-9]+\\s+[a-zA-Z0-9]+\\s+[a-zA-Z0-9]+\\s+[a-zA-Z0-9]+',str(review)) #키뒤4\n",
    "                    elif dd.count(' ')==5 :\n",
    "                        a= re.findall('[a-zA-Z0-9]+\\s'+keyword +'+\\s+[a-zA-Z0-9]+\\s+[a-zA-Z0-9]+\\s+[a-zA-Z0-9]+\\s+[a-zA-Z0-9]+\\s+[a-zA-Z0-9]+',str(review)) #키뒤5\n",
    "                    else:\n",
    "                        a= re.findall('[a-zA-Z0-9]+\\s'+keyword +'+\\s+[a-zA-Z0-9]+\\s+[a-zA-Z0-9]+\\s+[a-zA-Z0-9]+\\s+[a-zA-Z0-9]+\\s+[a-zA-Z0-9]+\\s+[a-zA-Z0-9]+',str(review)) #키뒤6\n",
    "   \n",
    "                else : #키워드 앞에 두단어 이상이 있을 때\n",
    "                    if dd.count(' ')==0:\n",
    "                        a= re.findall('[a-zA-Z0-9]+\\s+[a-zA-Z0-9]+\\s'+ keyword,str(review))\n",
    "                    elif dd.count(' ')==1:\n",
    "                        a = re.findall('[a-zA-Z0-9]+\\s+[a-zA-Z0-9]+\\s+'+ keyword +'+\\s+[a-zA-Z0-9]+',str(review)) \n",
    "                    elif dd.count(' ')==2:\n",
    "                        a= re.findall('[a-zA-Z0-9]+\\s+[a-zA-Z0-9]+\\s+'+ keyword +'+\\s+[a-zA-Z0-9]+\\s+[a-zA-Z0-9]+',str(review))\n",
    "                    elif dd.count(' ')==3:\n",
    "                        a= re.findall('[a-zA-Z0-9]+\\s+[a-zA-Z0-9]+\\s+'+ keyword +'+\\s+[a-zA-Z0-9]+\\s+[a-zA-Z0-9]+\\s+[a-zA-Z0-9]+',str(review))\n",
    "                    elif dd.count(' ')==4:\n",
    "                        a= re.findall('[a-zA-Z0-9]+\\s+[a-zA-Z0-9]+\\s+'+ keyword +'+\\s+[a-zA-Z0-9]+\\s+[a-zA-Z0-9]+\\s+[a-zA-Z0-9]+\\s+[a-zA-Z0-9]+',str(review)) #키뒤4\n",
    "                    elif dd.count(' ')==5 :\n",
    "                        a= re.findall('[a-zA-Z0-9]+\\s+[a-zA-Z0-9]+\\s+'+ keyword +'+\\s+[a-zA-Z0-9]+\\s+[a-zA-Z0-9]+\\s+[a-zA-Z0-9]+\\s+[a-zA-Z0-9]+\\s+[a-zA-Z0-9]+',str(review)) #키뒤5\n",
    "                    else:\n",
    "                        a= re.findall('[a-zA-Z0-9]+\\s+[a-zA-Z0-9]+\\s+'+ keyword +'+\\s+[a-zA-Z0-9]+\\s+[a-zA-Z0-9]+\\s+[a-zA-Z0-9]+\\s+[a-zA-Z0-9]+\\s+[a-zA-Z0-9]+\\s+[a-zA-Z0-9]+',str(review)) #키뒤6\n",
    "\n",
    "                for ngram in a: \n",
    "                    feature_temp.append(ngram)\n",
    "\n",
    "    return feature_temp"
   ]
  },
  {
   "cell_type": "code",
   "execution_count": 46,
   "metadata": {},
   "outputs": [],
   "source": [
    "r_review=[]\n",
    "for i in n_review:\n",
    "    aa=str(i)\n",
    "    r_review.append(aa)\n",
    "    "
   ]
  },
  {
   "cell_type": "code",
   "execution_count": 47,
   "metadata": {},
   "outputs": [
    {
     "data": {
      "text/plain": [
       "1246"
      ]
     },
     "execution_count": 47,
     "metadata": {},
     "output_type": "execute_result"
    }
   ],
   "source": [
    "len(n_review)"
   ]
  },
  {
   "cell_type": "code",
   "execution_count": 48,
   "metadata": {},
   "outputs": [
    {
     "data": {
      "text/plain": [
       "1246"
      ]
     },
     "execution_count": 48,
     "metadata": {},
     "output_type": "execute_result"
    }
   ],
   "source": [
    "len(r_review)"
   ]
  },
  {
   "cell_type": "markdown",
   "metadata": {},
   "source": [
    "###### hardware"
   ]
  },
  {
   "cell_type": "code",
   "execution_count": 21,
   "metadata": {},
   "outputs": [],
   "source": [
    "from nltk.sentiment.vader import SentimentIntensityAnalyzer\n",
    "senti_analyzer=SentimentIntensityAnalyzer()"
   ]
  },
  {
   "cell_type": "code",
   "execution_count": 49,
   "metadata": {},
   "outputs": [],
   "source": [
    "hardware_ngram=[]\n",
    "for i in r_review:\n",
    "    hardware_temp= get_feature_keywords(hardware_keyword,i)\n",
    "    if hardware_temp:\n",
    "        for ngram in hardware_temp:\n",
    "            hardware_ngram.append(ngram)\n"
   ]
  },
  {
   "cell_type": "code",
   "execution_count": 50,
   "metadata": {},
   "outputs": [],
   "source": [
    "hardware_scores=[]\n",
    "for i in hardware_ngram:\n",
    "    score=senti_analyzer.polarity_scores(i)\n",
    "    hardware_scores.append(score['compound'])"
   ]
  },
  {
   "cell_type": "code",
   "execution_count": 51,
   "metadata": {},
   "outputs": [],
   "source": [
    "hardware_good,hardware_bad,hardware_neut=[],[],[]\n",
    "for i in hardware_scores:\n",
    "    if i == 0.0 :\n",
    "        hardware_neut.append(i)\n",
    "    elif i<0:\n",
    "        hardware_bad.append(i)\n",
    "    else:\n",
    "        hardware_good.append(i)\n",
    "        "
   ]
  },
  {
   "cell_type": "code",
   "execution_count": 52,
   "metadata": {
    "scrolled": true
   },
   "outputs": [
    {
     "name": "stdout",
     "output_type": "stream",
     "text": [
      "2100 1045 1331\n"
     ]
    }
   ],
   "source": [
    "print(len(hardware_good),len(hardware_bad),len(hardware_neut))"
   ]
  },
  {
   "cell_type": "markdown",
   "metadata": {},
   "source": [
    "###### softwear_maneuverability"
   ]
  },
  {
   "cell_type": "code",
   "execution_count": 53,
   "metadata": {},
   "outputs": [],
   "source": [
    "softwear_maneuverability_ngram=[]\n",
    "for i in r_review:\n",
    "    softwear_maneuverability_temp= get_feature_keywords(softwear_maneuverability_keyword,i)\n",
    "    if softwear_maneuverability_temp:\n",
    "        for ngram in softwear_maneuverability_temp:\n",
    "            softwear_maneuverability_ngram.append(ngram)\n"
   ]
  },
  {
   "cell_type": "code",
   "execution_count": 54,
   "metadata": {},
   "outputs": [],
   "source": [
    "softwear_maneuverability_scores=[]\n",
    "for i in softwear_maneuverability_ngram:\n",
    "    score=senti_analyzer.polarity_scores(i)\n",
    "    softwear_maneuverability_scores.append(score['compound'])"
   ]
  },
  {
   "cell_type": "code",
   "execution_count": 55,
   "metadata": {},
   "outputs": [],
   "source": [
    "softwear_maneuverability_good,softwear_maneuverability_bad,softwear_maneuverability_neut=[],[],[]\n",
    "for i in softwear_maneuverability_scores:\n",
    "    if i == 0.0 :\n",
    "        softwear_maneuverability_neut.append(i)\n",
    "    elif i<0:\n",
    "        softwear_maneuverability_bad.append(i)\n",
    "    else:\n",
    "        softwear_maneuverability_good.append(i)\n",
    "        "
   ]
  },
  {
   "cell_type": "code",
   "execution_count": 56,
   "metadata": {
    "scrolled": true
   },
   "outputs": [
    {
     "name": "stdout",
     "output_type": "stream",
     "text": [
      "932 398 640\n"
     ]
    }
   ],
   "source": [
    "print(len(softwear_maneuverability_good),len(softwear_maneuverability_bad),len(softwear_maneuverability_neut))"
   ]
  },
  {
   "cell_type": "markdown",
   "metadata": {},
   "source": [
    "###### assemble"
   ]
  },
  {
   "cell_type": "code",
   "execution_count": 57,
   "metadata": {},
   "outputs": [],
   "source": [
    "assemble_ngram=[]\n",
    "for i in r_review:\n",
    "    assemble_temp= get_feature_keywords(assemble_keyword,i)\n",
    "    if assemble_temp:\n",
    "        for ngram in assemble_temp:\n",
    "            assemble_ngram.append(ngram)\n"
   ]
  },
  {
   "cell_type": "code",
   "execution_count": 58,
   "metadata": {},
   "outputs": [],
   "source": [
    "assemble_scores=[]\n",
    "for i in assemble_ngram:\n",
    "    score=senti_analyzer.polarity_scores(i)\n",
    "    assemble_scores.append(score['compound'])"
   ]
  },
  {
   "cell_type": "code",
   "execution_count": 59,
   "metadata": {},
   "outputs": [],
   "source": [
    "assemble_good,assemble_bad,assemble_neut=[],[],[]\n",
    "for i in assemble_scores:\n",
    "    if i == 0.0 :\n",
    "        assemble_neut.append(i)\n",
    "    elif i<0:\n",
    "        assemble_bad.append(i)\n",
    "    else:\n",
    "        assemble_good.append(i)\n",
    "        "
   ]
  },
  {
   "cell_type": "code",
   "execution_count": 60,
   "metadata": {
    "scrolled": true
   },
   "outputs": [
    {
     "name": "stdout",
     "output_type": "stream",
     "text": [
      "739 315 326\n"
     ]
    }
   ],
   "source": [
    "print(len(assemble_good),len(assemble_bad),len(assemble_neut))"
   ]
  },
  {
   "cell_type": "markdown",
   "metadata": {},
   "source": [
    "###### price"
   ]
  },
  {
   "cell_type": "code",
   "execution_count": 61,
   "metadata": {},
   "outputs": [],
   "source": [
    "price_ngram=[]\n",
    "for i in r_review:\n",
    "    price_temp= get_feature_keywords(price_keyword,i)\n",
    "    if price_temp:\n",
    "        for ngram in price_temp:\n",
    "            price_ngram.append(ngram)\n"
   ]
  },
  {
   "cell_type": "code",
   "execution_count": 62,
   "metadata": {},
   "outputs": [
    {
     "data": {
      "text/plain": [
       "1549"
      ]
     },
     "execution_count": 62,
     "metadata": {},
     "output_type": "execute_result"
    }
   ],
   "source": [
    "len(price_ngram)"
   ]
  },
  {
   "cell_type": "code",
   "execution_count": 63,
   "metadata": {},
   "outputs": [],
   "source": [
    "price_scores=[]\n",
    "for i in price_ngram:\n",
    "    score=senti_analyzer.polarity_scores(i)\n",
    "    price_scores.append(score['compound'])"
   ]
  },
  {
   "cell_type": "code",
   "execution_count": 64,
   "metadata": {},
   "outputs": [],
   "source": [
    "price_good,price_bad,price_neut=[],[],[]\n",
    "for i in price_scores:\n",
    "    if i == 0.0 :\n",
    "        price_neut.append(i)\n",
    "    elif i<0:\n",
    "        price_bad.append(i)\n",
    "    else:\n",
    "        price_good.append(i)\n",
    "        "
   ]
  },
  {
   "cell_type": "code",
   "execution_count": 65,
   "metadata": {},
   "outputs": [
    {
     "name": "stdout",
     "output_type": "stream",
     "text": [
      "1031 236 282\n"
     ]
    }
   ],
   "source": [
    "print(len(price_good),len(price_bad),len(price_neut))"
   ]
  },
  {
   "cell_type": "markdown",
   "metadata": {},
   "source": [
    "###### shipment"
   ]
  },
  {
   "cell_type": "code",
   "execution_count": 66,
   "metadata": {},
   "outputs": [],
   "source": [
    "shipment_ngram=[]\n",
    "for i in r_review:\n",
    "    shipment_temp= get_feature_keywords(shipment_keyword,i)\n",
    "    if shipment_temp:\n",
    "        for ngram in shipment_temp:\n",
    "            shipment_ngram.append(ngram)\n"
   ]
  },
  {
   "cell_type": "code",
   "execution_count": 67,
   "metadata": {},
   "outputs": [],
   "source": [
    "shipment_scores=[]\n",
    "for i in shipment_ngram:\n",
    "    score=senti_analyzer.polarity_scores(i)\n",
    "    shipment_scores.append(score['compound'])"
   ]
  },
  {
   "cell_type": "code",
   "execution_count": 68,
   "metadata": {},
   "outputs": [],
   "source": [
    "shipment_good,shipment_bad,shipment_neut=[],[],[]\n",
    "for i in shipment_scores:\n",
    "    if i == 0.0 :\n",
    "        shipment_neut.append(i)\n",
    "    elif i<0:\n",
    "        shipment_bad.append(i)\n",
    "    else:\n",
    "        shipment_good.append(i)\n",
    "        "
   ]
  },
  {
   "cell_type": "code",
   "execution_count": 69,
   "metadata": {
    "scrolled": true
   },
   "outputs": [
    {
     "name": "stdout",
     "output_type": "stream",
     "text": [
      "189 79 100\n"
     ]
    }
   ],
   "source": [
    "print(len(shipment_good),len(shipment_bad),len(shipment_neut))"
   ]
  },
  {
   "cell_type": "markdown",
   "metadata": {},
   "source": [
    "###### noise"
   ]
  },
  {
   "cell_type": "code",
   "execution_count": 70,
   "metadata": {},
   "outputs": [],
   "source": [
    "noise_ngram=[]\n",
    "for i in r_review:\n",
    "    noise_temp= get_feature_keywords(noise_keyword,i)\n",
    "    if noise_temp:\n",
    "        for ngram in noise_temp:\n",
    "            noise_ngram.append(ngram)\n"
   ]
  },
  {
   "cell_type": "code",
   "execution_count": 71,
   "metadata": {},
   "outputs": [],
   "source": [
    "noise_scores=[]\n",
    "for i in noise_ngram:\n",
    "    score=senti_analyzer.polarity_scores(i)\n",
    "    noise_scores.append(score['compound'])"
   ]
  },
  {
   "cell_type": "code",
   "execution_count": 72,
   "metadata": {},
   "outputs": [],
   "source": [
    "noise_good,noise_bad,noise_neut=[],[],[]\n",
    "for i in noise_scores:\n",
    "    if i == 0.0 :\n",
    "        noise_neut.append(i)\n",
    "    elif i<0:\n",
    "        noise_bad.append(i)\n",
    "    else:\n",
    "        noise_good.append(i)\n",
    "        "
   ]
  },
  {
   "cell_type": "code",
   "execution_count": 73,
   "metadata": {
    "scrolled": true
   },
   "outputs": [
    {
     "name": "stdout",
     "output_type": "stream",
     "text": [
      "315 251 232\n"
     ]
    }
   ],
   "source": [
    "print(len(noise_good),len(noise_bad),len(noise_neut))"
   ]
  },
  {
   "cell_type": "markdown",
   "metadata": {},
   "source": [
    "###### durability"
   ]
  },
  {
   "cell_type": "code",
   "execution_count": 74,
   "metadata": {},
   "outputs": [],
   "source": [
    "durability_ngram=[]\n",
    "for i in r_review:\n",
    "    durability_temp= get_feature_keywords(durability_keyword,i)\n",
    "    if durability_temp:\n",
    "        for ngram in durability_temp:\n",
    "            durability_ngram.append(ngram)\n"
   ]
  },
  {
   "cell_type": "code",
   "execution_count": 75,
   "metadata": {},
   "outputs": [],
   "source": [
    "durability_scores=[]\n",
    "for i in durability_ngram:\n",
    "    score=senti_analyzer.polarity_scores(i)\n",
    "    durability_scores.append(score['compound'])"
   ]
  },
  {
   "cell_type": "code",
   "execution_count": 76,
   "metadata": {},
   "outputs": [],
   "source": [
    "durability_good,durability_bad,durability_neut=[],[],[]\n",
    "for i in durability_scores:\n",
    "    if i == 0.0 :\n",
    "        durability_neut.append(i)\n",
    "    elif i<0:\n",
    "        durability_bad.append(i)\n",
    "    else:\n",
    "        durability_good.append(i)\n",
    "        "
   ]
  },
  {
   "cell_type": "code",
   "execution_count": 77,
   "metadata": {
    "scrolled": true
   },
   "outputs": [
    {
     "name": "stdout",
     "output_type": "stream",
     "text": [
      "700 273 176\n"
     ]
    }
   ],
   "source": [
    "print(len(durability_good),len(durability_bad),len(durability_neut))"
   ]
  },
  {
   "cell_type": "markdown",
   "metadata": {},
   "source": [
    "###### service"
   ]
  },
  {
   "cell_type": "code",
   "execution_count": 78,
   "metadata": {},
   "outputs": [],
   "source": [
    "service_ngram=[]\n",
    "for i in r_review:\n",
    "    service_temp= get_feature_keywords(service_keyword,i)\n",
    "    if service_temp:\n",
    "        for ngram in service_temp:\n",
    "            service_ngram.append(ngram)\n"
   ]
  },
  {
   "cell_type": "code",
   "execution_count": 79,
   "metadata": {},
   "outputs": [],
   "source": [
    "service_scores=[]\n",
    "for i in service_ngram:\n",
    "    score=senti_analyzer.polarity_scores(i)\n",
    "    service_scores.append(score['compound'])"
   ]
  },
  {
   "cell_type": "code",
   "execution_count": 80,
   "metadata": {},
   "outputs": [],
   "source": [
    "service_good,service_bad,service_neut=[],[],[]\n",
    "for i in service_scores:\n",
    "    if i == 0.0 :\n",
    "        service_neut.append(i)\n",
    "    elif i<0:\n",
    "        service_bad.append(i)\n",
    "    else:\n",
    "        service_good.append(i)\n",
    "        "
   ]
  },
  {
   "cell_type": "code",
   "execution_count": 81,
   "metadata": {
    "scrolled": true
   },
   "outputs": [
    {
     "name": "stdout",
     "output_type": "stream",
     "text": [
      "291 152 164\n"
     ]
    }
   ],
   "source": [
    "print(len(service_good),len(service_bad),len(service_neut))"
   ]
  },
  {
   "cell_type": "markdown",
   "metadata": {},
   "source": [
    "###### appearnace"
   ]
  },
  {
   "cell_type": "code",
   "execution_count": 82,
   "metadata": {},
   "outputs": [],
   "source": [
    "appearnace_ngram=[]\n",
    "for i in r_review:\n",
    "    appearnace_temp= get_feature_keywords(appearnace_keyword,i)\n",
    "    if appearnace_temp:\n",
    "        for ngram in appearnace_temp:\n",
    "            appearnace_ngram.append(ngram)\n"
   ]
  },
  {
   "cell_type": "code",
   "execution_count": 83,
   "metadata": {},
   "outputs": [],
   "source": [
    "appearnace_scores=[]\n",
    "for i in appearnace_ngram:\n",
    "    score=senti_analyzer.polarity_scores(i)\n",
    "    appearnace_scores.append(score['compound'])"
   ]
  },
  {
   "cell_type": "code",
   "execution_count": 84,
   "metadata": {},
   "outputs": [],
   "source": [
    "appearnace_good,appearnace_bad,appearnace_neut=[],[],[]\n",
    "for i in appearnace_scores:\n",
    "    if i == 0.0 :\n",
    "        appearnace_neut.append(i)\n",
    "    elif i<0:\n",
    "        appearnace_bad.append(i)\n",
    "    else:\n",
    "        appearnace_good.append(i)\n",
    "        "
   ]
  },
  {
   "cell_type": "code",
   "execution_count": 85,
   "metadata": {
    "scrolled": true
   },
   "outputs": [
    {
     "name": "stdout",
     "output_type": "stream",
     "text": [
      "78 40 48\n"
     ]
    }
   ],
   "source": [
    "print(len(appearnace_good),len(appearnace_bad),len(appearnace_neut))"
   ]
  },
  {
   "cell_type": "code",
   "execution_count": null,
   "metadata": {},
   "outputs": [],
   "source": []
  },
  {
   "cell_type": "code",
   "execution_count": null,
   "metadata": {},
   "outputs": [],
   "source": []
  },
  {
   "cell_type": "code",
   "execution_count": 86,
   "metadata": {},
   "outputs": [],
   "source": [
    "hardware_rate=[len(hardware_good),len(hardware_bad),len(hardware_neut)]\n",
    "softwear_maneuverability_rate=[len(softwear_maneuverability_good),len(softwear_maneuverability_bad),len(softwear_maneuverability_neut)]\n",
    "assemble_rate=[len(assemble_good),len(assemble_bad),len(assemble_neut)]\n",
    "price_rate=[len(price_good),len(price_bad),len(price_neut)]\n",
    "shipment_rate=[len(shipment_good),len(shipment_bad),len(shipment_neut)]\n",
    "noise_rate=[len(noise_good),len(noise_bad),len(noise_neut)]\n",
    "durability_rate=[len(durability_good),len(durability_bad),len(durability_neut)]\n",
    "service_rate=[len(service_good),len(service_bad),len(service_neut)]\n",
    "appearnace_rate=[len(appearnace_good),len(appearnace_bad),len(appearnace_neut)]"
   ]
  },
  {
   "cell_type": "code",
   "execution_count": 87,
   "metadata": {},
   "outputs": [],
   "source": [
    "result=pd.DataFrame([hardware_rate,softwear_maneuverability_rate,assemble_rate,price_rate,shipment_rate,noise_rate,durability_rate,service_rate,appearnace_rate],index=['hardware','software_maneuverability','assemble','price','shipment','noise','durability','service','appearnace'])"
   ]
  },
  {
   "cell_type": "code",
   "execution_count": 88,
   "metadata": {},
   "outputs": [
    {
     "data": {
      "text/html": [
       "<div>\n",
       "<style scoped>\n",
       "    .dataframe tbody tr th:only-of-type {\n",
       "        vertical-align: middle;\n",
       "    }\n",
       "\n",
       "    .dataframe tbody tr th {\n",
       "        vertical-align: top;\n",
       "    }\n",
       "\n",
       "    .dataframe thead th {\n",
       "        text-align: right;\n",
       "    }\n",
       "</style>\n",
       "<table border=\"1\" class=\"dataframe\">\n",
       "  <thead>\n",
       "    <tr style=\"text-align: right;\">\n",
       "      <th></th>\n",
       "      <th>good</th>\n",
       "      <th>bad</th>\n",
       "      <th>neutrality</th>\n",
       "    </tr>\n",
       "  </thead>\n",
       "  <tbody>\n",
       "    <tr>\n",
       "      <th>hardware</th>\n",
       "      <td>2100</td>\n",
       "      <td>1045</td>\n",
       "      <td>1331</td>\n",
       "    </tr>\n",
       "    <tr>\n",
       "      <th>software_maneuverability</th>\n",
       "      <td>932</td>\n",
       "      <td>398</td>\n",
       "      <td>640</td>\n",
       "    </tr>\n",
       "    <tr>\n",
       "      <th>assemble</th>\n",
       "      <td>739</td>\n",
       "      <td>315</td>\n",
       "      <td>326</td>\n",
       "    </tr>\n",
       "    <tr>\n",
       "      <th>price</th>\n",
       "      <td>1031</td>\n",
       "      <td>236</td>\n",
       "      <td>282</td>\n",
       "    </tr>\n",
       "    <tr>\n",
       "      <th>shipment</th>\n",
       "      <td>189</td>\n",
       "      <td>79</td>\n",
       "      <td>100</td>\n",
       "    </tr>\n",
       "    <tr>\n",
       "      <th>noise</th>\n",
       "      <td>315</td>\n",
       "      <td>251</td>\n",
       "      <td>232</td>\n",
       "    </tr>\n",
       "    <tr>\n",
       "      <th>durability</th>\n",
       "      <td>700</td>\n",
       "      <td>273</td>\n",
       "      <td>176</td>\n",
       "    </tr>\n",
       "    <tr>\n",
       "      <th>service</th>\n",
       "      <td>291</td>\n",
       "      <td>152</td>\n",
       "      <td>164</td>\n",
       "    </tr>\n",
       "    <tr>\n",
       "      <th>appearnace</th>\n",
       "      <td>78</td>\n",
       "      <td>40</td>\n",
       "      <td>48</td>\n",
       "    </tr>\n",
       "  </tbody>\n",
       "</table>\n",
       "</div>"
      ],
      "text/plain": [
       "                          good   bad  neutrality\n",
       "hardware                  2100  1045        1331\n",
       "software_maneuverability   932   398         640\n",
       "assemble                   739   315         326\n",
       "price                     1031   236         282\n",
       "shipment                   189    79         100\n",
       "noise                      315   251         232\n",
       "durability                 700   273         176\n",
       "service                    291   152         164\n",
       "appearnace                  78    40          48"
      ]
     },
     "execution_count": 88,
     "metadata": {},
     "output_type": "execute_result"
    }
   ],
   "source": [
    "result.columns=['good','bad','neutrality']\n",
    "result"
   ]
  },
  {
   "cell_type": "code",
   "execution_count": 89,
   "metadata": {},
   "outputs": [],
   "source": [
    "result.to_csv('helpful_senti_result.csv')"
   ]
  },
  {
   "cell_type": "code",
   "execution_count": null,
   "metadata": {},
   "outputs": [],
   "source": []
  },
  {
   "cell_type": "code",
   "execution_count": null,
   "metadata": {},
   "outputs": [],
   "source": []
  },
  {
   "cell_type": "code",
   "execution_count": null,
   "metadata": {},
   "outputs": [],
   "source": []
  },
  {
   "cell_type": "code",
   "execution_count": null,
   "metadata": {},
   "outputs": [],
   "source": []
  },
  {
   "cell_type": "code",
   "execution_count": null,
   "metadata": {},
   "outputs": [],
   "source": []
  }
 ],
 "metadata": {
  "kernelspec": {
   "display_name": "Python 3",
   "language": "python",
   "name": "python3"
  },
  "language_info": {
   "codemirror_mode": {
    "name": "ipython",
    "version": 3
   },
   "file_extension": ".py",
   "mimetype": "text/x-python",
   "name": "python",
   "nbconvert_exporter": "python",
   "pygments_lexer": "ipython3",
   "version": "3.7.6"
  }
 },
 "nbformat": 4,
 "nbformat_minor": 4
}
