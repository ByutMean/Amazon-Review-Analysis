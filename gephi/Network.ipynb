{
 "cells": [
  {
   "cell_type": "code",
   "execution_count": 1,
   "metadata": {},
   "outputs": [],
   "source": [
    "import pandas as pd"
   ]
  },
  {
   "cell_type": "code",
   "execution_count": 2,
   "metadata": {},
   "outputs": [],
   "source": [
    "data = pd.read_csv(r'/Users/yebin1/Desktop/4학년2학기/02_비정형데이터분석/중간발표/결과값/pre_review_Sunny.csv',encoding='utf-8')"
   ]
  },
  {
   "cell_type": "code",
   "execution_count": 3,
   "metadata": {},
   "outputs": [
    {
     "data": {
      "text/html": [
       "<div>\n",
       "<style scoped>\n",
       "    .dataframe tbody tr th:only-of-type {\n",
       "        vertical-align: middle;\n",
       "    }\n",
       "\n",
       "    .dataframe tbody tr th {\n",
       "        vertical-align: top;\n",
       "    }\n",
       "\n",
       "    .dataframe thead th {\n",
       "        text-align: right;\n",
       "    }\n",
       "</style>\n",
       "<table border=\"1\" class=\"dataframe\">\n",
       "  <thead>\n",
       "    <tr style=\"text-align: right;\">\n",
       "      <th></th>\n",
       "      <th>Unnamed: 0</th>\n",
       "      <th>star</th>\n",
       "      <th>helpful</th>\n",
       "      <th>title</th>\n",
       "      <th>text</th>\n",
       "    </tr>\n",
       "  </thead>\n",
       "  <tbody>\n",
       "    <tr>\n",
       "      <th>0</th>\n",
       "      <td>0</td>\n",
       "      <td>5.0</td>\n",
       "      <td>488</td>\n",
       "      <td>Items needed to create a pton hack</td>\n",
       "      <td>review figure create version pton trial error ...</td>\n",
       "    </tr>\n",
       "    <tr>\n",
       "      <th>1</th>\n",
       "      <td>1</td>\n",
       "      <td>5.0</td>\n",
       "      <td>1,892</td>\n",
       "      <td>Review After Year One</td>\n",
       "      <td>post bike june bit price intention use fitness...</td>\n",
       "    </tr>\n",
       "    <tr>\n",
       "      <th>2</th>\n",
       "      <td>2</td>\n",
       "      <td>4.0</td>\n",
       "      <td>590</td>\n",
       "      <td>Good bike for the price.  Just do a little reg...</td>\n",
       "      <td>maintenance spin bike september time week coup...</td>\n",
       "    </tr>\n",
       "    <tr>\n",
       "      <th>3</th>\n",
       "      <td>3</td>\n",
       "      <td>1.0</td>\n",
       "      <td>902</td>\n",
       "      <td>Completely broke at 4 months!</td>\n",
       "      <td>bike novice footprint ipad video odometer meas...</td>\n",
       "    </tr>\n",
       "    <tr>\n",
       "      <th>4</th>\n",
       "      <td>4</td>\n",
       "      <td>1.0</td>\n",
       "      <td>185</td>\n",
       "      <td>DO NOT BUY THIS CYCLE!</td>\n",
       "      <td>cycle year warranty package cycle assembler no...</td>\n",
       "    </tr>\n",
       "  </tbody>\n",
       "</table>\n",
       "</div>"
      ],
      "text/plain": [
       "   Unnamed: 0  star helpful  \\\n",
       "0           0   5.0     488   \n",
       "1           1   5.0   1,892   \n",
       "2           2   4.0     590   \n",
       "3           3   1.0     902   \n",
       "4           4   1.0     185   \n",
       "\n",
       "                                               title  \\\n",
       "0                 Items needed to create a pton hack   \n",
       "1                              Review After Year One   \n",
       "2  Good bike for the price.  Just do a little reg...   \n",
       "3                      Completely broke at 4 months!   \n",
       "4                             DO NOT BUY THIS CYCLE!   \n",
       "\n",
       "                                                text  \n",
       "0  review figure create version pton trial error ...  \n",
       "1  post bike june bit price intention use fitness...  \n",
       "2  maintenance spin bike september time week coup...  \n",
       "3  bike novice footprint ipad video odometer meas...  \n",
       "4  cycle year warranty package cycle assembler no...  "
      ]
     },
     "execution_count": 3,
     "metadata": {},
     "output_type": "execute_result"
    }
   ],
   "source": [
    "data.head()"
   ]
  },
  {
   "cell_type": "code",
   "execution_count": 4,
   "metadata": {},
   "outputs": [],
   "source": [
    "text = data['text']"
   ]
  },
  {
   "cell_type": "code",
   "execution_count": 5,
   "metadata": {},
   "outputs": [
    {
     "data": {
      "text/plain": [
       "0       review figure create version pton trial error ...\n",
       "1       post bike june bit price intention use fitness...\n",
       "2       maintenance spin bike september time week coup...\n",
       "3       bike novice footprint ipad video odometer meas...\n",
       "4       cycle year warranty package cycle assembler no...\n",
       "                              ...                        \n",
       "2925                                         bike garbage\n",
       "2926                                                 bike\n",
       "2927    fitment features.gets job pay for.i money some...\n",
       "2928                                              amazing\n",
       "2929                  someone tell handlebar height model\n",
       "Name: text, Length: 2930, dtype: object"
      ]
     },
     "execution_count": 5,
     "metadata": {},
     "output_type": "execute_result"
    }
   ],
   "source": [
    "text"
   ]
  },
  {
   "cell_type": "code",
   "execution_count": 6,
   "metadata": {},
   "outputs": [],
   "source": [
    "from sklearn.feature_extraction.text import CountVectorizer\n",
    "cv = CountVectorizer(ngram_range=(1,1), stop_words = 'english') # You can define your own parameters\n",
    "X = cv.fit_transform(text.values.astype('U'))"
   ]
  },
  {
   "cell_type": "code",
   "execution_count": 7,
   "metadata": {},
   "outputs": [],
   "source": [
    "Co_ocurrence = (X.T * X) # This is the matrix manipulation step\n",
    "Co_ocurrence.setdiag(0)"
   ]
  },
  {
   "cell_type": "code",
   "execution_count": 8,
   "metadata": {},
   "outputs": [],
   "source": [
    "import pandas as pd\n",
    "names = cv.get_feature_names() # This are the entity names (i.e. keywords)\n",
    "df = pd.DataFrame(data = Co_ocurrence.toarray(), columns = names, index = names)\n",
    "df.to_csv('to gephi_sunny.csv', sep = ',')"
   ]
  },
  {
   "cell_type": "code",
   "execution_count": null,
   "metadata": {},
   "outputs": [],
   "source": []
  }
 ],
 "metadata": {
  "kernelspec": {
   "display_name": "Python 3",
   "language": "python",
   "name": "python3"
  },
  "language_info": {
   "codemirror_mode": {
    "name": "ipython",
    "version": 3
   },
   "file_extension": ".py",
   "mimetype": "text/x-python",
   "name": "python",
   "nbconvert_exporter": "python",
   "pygments_lexer": "ipython3",
   "version": "3.7.6"
  }
 },
 "nbformat": 4,
 "nbformat_minor": 4
}
